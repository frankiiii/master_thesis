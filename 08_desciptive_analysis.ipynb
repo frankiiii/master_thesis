{
 "cells": [
  {
   "cell_type": "markdown",
   "metadata": {},
   "source": [
    "# Onset Variables and Descriptive Statistics \n",
    "This notebook codes different versions of the conflict onset variable as well as a lagged dependent variable, a cumulative sum of previous onsets and a civil war dummy. These variables are subsequently saved in a new version of the dataset. This notebook also implements an initial descriptive analysis of the variables involved in the analysis. This analysis serves to get a better intuition about the variance in the data and for how to interpret the results. It also servers to rule out any oddities in the dataset that might occur due to merging issues or during the imputation of missing values."
   ]
  },
  {
   "cell_type": "code",
   "execution_count": 1,
   "metadata": {},
   "outputs": [],
   "source": [
    "### Load libraries -------\n",
    "import pandas as pd\n",
    "import matplotlib.pyplot as plt\n",
    "from matplotlib import rcParams\n",
    "import numpy as np\n",
    "import os\n",
    "import yaml\n",
    "\n",
    "# Pandas parameters\n",
    "#pd.set_option('display.max_colwidth', -1)\n",
    "#pd.set_option('display.max_rows', 2000)\n",
    "#pd.set_option('display.max_columns', 500)"
   ]
  },
  {
   "cell_type": "code",
   "execution_count": 2,
   "metadata": {},
   "outputs": [],
   "source": [
    "### Define plot parameters ------\n",
    "plt.rcParams[\"font.family\"] = \"garamond\"\n",
    "plt.rcParams.update({'font.size': 22})\n",
    "rcParams.update({'figure.autolayout': True})"
   ]
  },
  {
   "cell_type": "code",
   "execution_count": 3,
   "metadata": {},
   "outputs": [
    {
     "data": {
      "text/plain": [
       "'C:\\\\Users\\\\frank\\\\Desktop\\\\master_thesis_out\\\\desciptive_tables_outcome'"
      ]
     },
     "execution_count": 3,
     "metadata": {},
     "output_type": "execute_result"
    }
   ],
   "source": [
    "### Define out paths ------\n",
    "\n",
    "# check if out path exists, if it does not exists add the path\n",
    "if not os.path.exists('C:\\\\Users\\\\frank\\\\Desktop\\\\master_thesis_out'):\n",
    "    os.makedirs('C:\\\\Users\\\\frank\\\\Desktop\\\\master_thesis_out')\n",
    "\n",
    "# add subfolders for the out path\n",
    "out_paths = {\n",
    "    \"desciptive_plots_outcome\": 'C:\\\\Users\\\\frank\\\\Desktop\\\\master_thesis_out\\desciptive_plots_outcome',\n",
    "    \"desciptive_tables_outcome\": 'C:\\\\Users\\\\frank\\\\Desktop\\\\master_thesis_out\\desciptive_tables_outcome',\n",
    "    \"data\": 'C:\\\\Users\\\\frank\\\\Desktop\\\\master_thesis_out\\data',\n",
    "    \"imp\": 'C:\\\\Users\\\\frank\\\\Desktop\\\\master_thesis_out\\data\\imp'\n",
    "}\n",
    "\n",
    "for key, val in out_paths.items():\n",
    "    if not os.path.exists(val):\n",
    "        os.makedirs(val)\n",
    "        \n",
    "out_paths[\"desciptive_tables_outcome\"]"
   ]
  },
  {
   "cell_type": "code",
   "execution_count": 4,
   "metadata": {},
   "outputs": [],
   "source": [
    "### Open yaml file to import feature lists --------\n",
    "# I specified a yaml file to import variable lists, this serves to shorten the notebook\n",
    "with open('C:\\\\Users\\\\frank\\\\Desktop\\\\master_thesis\\\\feature_lists.yaml') as file:\n",
    "    feat_list = yaml.load(file, Loader=yaml.FullLoader)\n",
    "\n",
    "feat_rebel_visibility = feat_list[\"rebel_visibility\"]\n",
    "feat_social_networks = feat_list[\"social_networks_short_log\"]\n",
    "feat_state_capacity = feat_list[\"state_capacity\"]\n",
    "feat_natural_resources = feat_list[\"natural_resources_log\"]"
   ]
  },
  {
   "cell_type": "code",
   "execution_count": 5,
   "metadata": {},
   "outputs": [],
   "source": [
    "### Make a dictionary with fancy names of variables to import into functions  -----\n",
    "dict_feat_names = {\n",
    "  \"foundloc_cat_cat\": \"Location of Rebel Group Formation to Capital\",\n",
    "  \"terrain\": \"Terrain Ruggedness\",\n",
    "  \"forest_cov\": \"Forest Coverage \",\n",
    "  \"rural\": \"Rural Population \",\n",
    "  \"oil\": \"Oil Rents\",\n",
    "  \"oil_log\": \"Oil Rents (log)\",\n",
    "  \"ident_ethnicity\": \"Ethnicity  (Identity)\",\n",
    "  \"parent_splinter_nonstate\": \"Splinter Non-State (Pre-existing Organization)\",\n",
    "  \"parent_splinter_state\": \"Splinter State (Pre-existing Organization)\",\n",
    "  \"parent_civil_society\": \"Civil Society (Pre-existing Organization)\",\n",
    "  \"parent_merger\": \"Merger (Pre-existing Organization)\",\n",
    "  \"civil_war_dummy\": \"Transition to Civil War\", \n",
    "  \"active_year_lag\": \"Transition to Civil Conflict (lag)\",\n",
    "  \"gov_qual\": \"Quality of Government\",\n",
    "  \"milexp_in\": \"Military Expenditure Index\",\n",
    "  \"milper_in\": \"Military Personnel Index\",\n",
    "  \"polity2\": \"Combined Polity Score\", \n",
    "  'internet_use': \"Internet Usage\",\n",
    "  'internet_use_log': \"Internet Usage (log)\",\n",
    "  \"age_formation\": \"Age of Rebel Group Since Formation\",\n",
    "  \"ideo_total\": \"Intensity of Ideology\",\n",
    "  \"goal_total\": \"Intensity of Goals\",\n",
    "}"
   ]
  },
  {
   "cell_type": "code",
   "execution_count": 6,
   "metadata": {},
   "outputs": [
    {
     "data": {
      "text/html": [
       "<div>\n",
       "<style scoped>\n",
       "    .dataframe tbody tr th:only-of-type {\n",
       "        vertical-align: middle;\n",
       "    }\n",
       "\n",
       "    .dataframe tbody tr th {\n",
       "        vertical-align: top;\n",
       "    }\n",
       "\n",
       "    .dataframe thead th {\n",
       "        text-align: right;\n",
       "    }\n",
       "</style>\n",
       "<table border=\"1\" class=\"dataframe\">\n",
       "  <thead>\n",
       "    <tr style=\"text-align: right;\">\n",
       "      <th></th>\n",
       "      <th>year</th>\n",
       "      <th>StateAbb</th>\n",
       "      <th>ccode</th>\n",
       "      <th>cname</th>\n",
       "      <th>side_a</th>\n",
       "      <th>side_a_new_id</th>\n",
       "      <th>side_b</th>\n",
       "      <th>side_b_new_id</th>\n",
       "      <th>dyad_name</th>\n",
       "      <th>dyad_new_id</th>\n",
       "      <th>...</th>\n",
       "      <th>parent_merger</th>\n",
       "      <th>oil</th>\n",
       "      <th>forest_cov</th>\n",
       "      <th>rural</th>\n",
       "      <th>terrain</th>\n",
       "      <th>gov_qual</th>\n",
       "      <th>milexp_in</th>\n",
       "      <th>milper_in</th>\n",
       "      <th>polity2</th>\n",
       "      <th>internet_use</th>\n",
       "    </tr>\n",
       "  </thead>\n",
       "  <tbody>\n",
       "    <tr>\n",
       "      <th>0</th>\n",
       "      <td>1990</td>\n",
       "      <td>IRN</td>\n",
       "      <td>630</td>\n",
       "      <td>Iran</td>\n",
       "      <td>Government of Iran</td>\n",
       "      <td>114</td>\n",
       "      <td>KDPI</td>\n",
       "      <td>164</td>\n",
       "      <td>Government of Iran - KDPI</td>\n",
       "      <td>406</td>\n",
       "      <td>...</td>\n",
       "      <td>0.0</td>\n",
       "      <td>21.474983</td>\n",
       "      <td>5.572374</td>\n",
       "      <td>43.670</td>\n",
       "      <td>244.5</td>\n",
       "      <td>0.305556</td>\n",
       "      <td>1.84</td>\n",
       "      <td>0.52</td>\n",
       "      <td>-6.0</td>\n",
       "      <td>0.0</td>\n",
       "    </tr>\n",
       "    <tr>\n",
       "      <th>1</th>\n",
       "      <td>1991</td>\n",
       "      <td>IRN</td>\n",
       "      <td>630</td>\n",
       "      <td>Iran</td>\n",
       "      <td>Government of Iran</td>\n",
       "      <td>114</td>\n",
       "      <td>KDPI</td>\n",
       "      <td>164</td>\n",
       "      <td>Government of Iran - KDPI</td>\n",
       "      <td>406</td>\n",
       "      <td>...</td>\n",
       "      <td>0.0</td>\n",
       "      <td>9.865724</td>\n",
       "      <td>5.587699</td>\n",
       "      <td>43.135</td>\n",
       "      <td>244.5</td>\n",
       "      <td>0.370370</td>\n",
       "      <td>1.52</td>\n",
       "      <td>0.52</td>\n",
       "      <td>-6.0</td>\n",
       "      <td>0.0</td>\n",
       "    </tr>\n",
       "    <tr>\n",
       "      <th>2</th>\n",
       "      <td>1992</td>\n",
       "      <td>IRN</td>\n",
       "      <td>630</td>\n",
       "      <td>Iran</td>\n",
       "      <td>Government of Iran</td>\n",
       "      <td>114</td>\n",
       "      <td>KDPI</td>\n",
       "      <td>164</td>\n",
       "      <td>Government of Iran - KDPI</td>\n",
       "      <td>406</td>\n",
       "      <td>...</td>\n",
       "      <td>0.0</td>\n",
       "      <td>9.546629</td>\n",
       "      <td>5.603023</td>\n",
       "      <td>42.347</td>\n",
       "      <td>244.5</td>\n",
       "      <td>0.467593</td>\n",
       "      <td>1.34</td>\n",
       "      <td>0.51</td>\n",
       "      <td>-6.0</td>\n",
       "      <td>0.0</td>\n",
       "    </tr>\n",
       "  </tbody>\n",
       "</table>\n",
       "<p>3 rows × 95 columns</p>\n",
       "</div>"
      ],
      "text/plain": [
       "   year StateAbb  ccode cname              side_a  side_a_new_id side_b  \\\n",
       "0  1990      IRN    630  Iran  Government of Iran            114   KDPI   \n",
       "1  1991      IRN    630  Iran  Government of Iran            114   KDPI   \n",
       "2  1992      IRN    630  Iran  Government of Iran            114   KDPI   \n",
       "\n",
       "   side_b_new_id                  dyad_name  dyad_new_id  ...  parent_merger  \\\n",
       "0            164  Government of Iran - KDPI          406  ...            0.0   \n",
       "1            164  Government of Iran - KDPI          406  ...            0.0   \n",
       "2            164  Government of Iran - KDPI          406  ...            0.0   \n",
       "\n",
       "         oil  forest_cov   rural terrain  gov_qual  milexp_in  milper_in  \\\n",
       "0  21.474983    5.572374  43.670   244.5  0.305556       1.84       0.52   \n",
       "1   9.865724    5.587699  43.135   244.5  0.370370       1.52       0.52   \n",
       "2   9.546629    5.603023  42.347   244.5  0.467593       1.34       0.51   \n",
       "\n",
       "   polity2  internet_use  \n",
       "0     -6.0           0.0  \n",
       "1     -6.0           0.0  \n",
       "2     -6.0           0.0  \n",
       "\n",
       "[3 rows x 95 columns]"
      ]
     },
     "execution_count": 6,
     "metadata": {},
     "output_type": "execute_result"
    }
   ],
   "source": [
    "### Load data -----\n",
    "df = pd.read_csv(os.path.join(out_paths[\"imp\"], \"df_imp_1.csv\")) ### <----- change to use other imputed datasets\n",
    "#df = pd.read_csv(os.path.join(out_paths[\"imp\"], \"df_imp_simple_interpolated.csv\"))\n",
    "df.head(3)"
   ]
  },
  {
   "cell_type": "markdown",
   "metadata": {},
   "source": [
    "## Preparation\n",
    "This section codes some of the variables needed in the analysis. The following variables are coded: conflict onset variables, a lagged dependent variable and a cumulative sum of the outcome variable. The dataset is copied and truncated following the deletion of consecutive years of fighting. "
   ]
  },
  {
   "cell_type": "code",
   "execution_count": 7,
   "metadata": {},
   "outputs": [
    {
     "data": {
      "text/html": [
       "<div>\n",
       "<style scoped>\n",
       "    .dataframe tbody tr th:only-of-type {\n",
       "        vertical-align: middle;\n",
       "    }\n",
       "\n",
       "    .dataframe tbody tr th {\n",
       "        vertical-align: top;\n",
       "    }\n",
       "\n",
       "    .dataframe thead th {\n",
       "        text-align: right;\n",
       "    }\n",
       "</style>\n",
       "<table border=\"1\" class=\"dataframe\">\n",
       "  <thead>\n",
       "    <tr style=\"text-align: right;\">\n",
       "      <th></th>\n",
       "      <th>dyad_new_id</th>\n",
       "      <th>year</th>\n",
       "      <th>active_year</th>\n",
       "      <th>active_year_lag</th>\n",
       "    </tr>\n",
       "  </thead>\n",
       "  <tbody>\n",
       "    <tr>\n",
       "      <th>1518</th>\n",
       "      <td>406</td>\n",
       "      <td>1989</td>\n",
       "      <td>0</td>\n",
       "      <td>NaN</td>\n",
       "    </tr>\n",
       "    <tr>\n",
       "      <th>0</th>\n",
       "      <td>406</td>\n",
       "      <td>1990</td>\n",
       "      <td>1</td>\n",
       "      <td>0.0</td>\n",
       "    </tr>\n",
       "    <tr>\n",
       "      <th>1</th>\n",
       "      <td>406</td>\n",
       "      <td>1991</td>\n",
       "      <td>0</td>\n",
       "      <td>1.0</td>\n",
       "    </tr>\n",
       "    <tr>\n",
       "      <th>2</th>\n",
       "      <td>406</td>\n",
       "      <td>1992</td>\n",
       "      <td>0</td>\n",
       "      <td>0.0</td>\n",
       "    </tr>\n",
       "    <tr>\n",
       "      <th>3</th>\n",
       "      <td>406</td>\n",
       "      <td>1993</td>\n",
       "      <td>1</td>\n",
       "      <td>0.0</td>\n",
       "    </tr>\n",
       "  </tbody>\n",
       "</table>\n",
       "</div>"
      ],
      "text/plain": [
       "      dyad_new_id  year  active_year  active_year_lag\n",
       "1518          406  1989            0              NaN\n",
       "0             406  1990            1              0.0\n",
       "1             406  1991            0              1.0\n",
       "2             406  1992            0              0.0\n",
       "3             406  1993            1              0.0"
      ]
     },
     "execution_count": 7,
     "metadata": {},
     "output_type": "execute_result"
    }
   ],
   "source": [
    "### Code onset variable Step I ------------\n",
    "df = df.sort_values([\"dyad_new_id\", \"year\"], ascending = (True, True)) # sort dataset\n",
    "\n",
    "# Group observations by dyad and year, and generate lagged dependent variable (t-1) \n",
    "df[\"active_year_lag\"] = df.groupby([\"dyad_new_id\"])[\"active_year\"].shift()\n",
    "\n",
    "# Copy dependent variable to code onset versions \n",
    "df[\"active_year_onset\"] = df[\"active_year\"]\n",
    "df[\"active_year_onset_drop\"] = df[\"active_year\"]\n",
    "\n",
    "# Check\n",
    "df[[\"dyad_new_id\", \"year\", \"active_year\", \"active_year_lag\"]].head(5)"
   ]
  },
  {
   "cell_type": "code",
   "execution_count": 8,
   "metadata": {},
   "outputs": [
    {
     "data": {
      "text/html": [
       "<div>\n",
       "<style scoped>\n",
       "    .dataframe tbody tr th:only-of-type {\n",
       "        vertical-align: middle;\n",
       "    }\n",
       "\n",
       "    .dataframe tbody tr th {\n",
       "        vertical-align: top;\n",
       "    }\n",
       "\n",
       "    .dataframe thead th {\n",
       "        text-align: right;\n",
       "    }\n",
       "</style>\n",
       "<table border=\"1\" class=\"dataframe\">\n",
       "  <thead>\n",
       "    <tr style=\"text-align: right;\">\n",
       "      <th></th>\n",
       "      <th>dyad_new_id</th>\n",
       "      <th>year</th>\n",
       "      <th>active_year</th>\n",
       "      <th>active_year_lag</th>\n",
       "    </tr>\n",
       "  </thead>\n",
       "  <tbody>\n",
       "    <tr>\n",
       "      <th>1518</th>\n",
       "      <td>406</td>\n",
       "      <td>1989</td>\n",
       "      <td>0</td>\n",
       "      <td>0.0</td>\n",
       "    </tr>\n",
       "    <tr>\n",
       "      <th>0</th>\n",
       "      <td>406</td>\n",
       "      <td>1990</td>\n",
       "      <td>1</td>\n",
       "      <td>0.0</td>\n",
       "    </tr>\n",
       "    <tr>\n",
       "      <th>1</th>\n",
       "      <td>406</td>\n",
       "      <td>1991</td>\n",
       "      <td>0</td>\n",
       "      <td>1.0</td>\n",
       "    </tr>\n",
       "    <tr>\n",
       "      <th>2</th>\n",
       "      <td>406</td>\n",
       "      <td>1992</td>\n",
       "      <td>0</td>\n",
       "      <td>0.0</td>\n",
       "    </tr>\n",
       "    <tr>\n",
       "      <th>3</th>\n",
       "      <td>406</td>\n",
       "      <td>1993</td>\n",
       "      <td>1</td>\n",
       "      <td>0.0</td>\n",
       "    </tr>\n",
       "  </tbody>\n",
       "</table>\n",
       "</div>"
      ],
      "text/plain": [
       "      dyad_new_id  year  active_year  active_year_lag\n",
       "1518          406  1989            0              0.0\n",
       "0             406  1990            1              0.0\n",
       "1             406  1991            0              1.0\n",
       "2             406  1992            0              0.0\n",
       "3             406  1993            1              0.0"
      ]
     },
     "execution_count": 8,
     "metadata": {},
     "output_type": "execute_result"
    }
   ],
   "source": [
    "### Fill the lagged dependent variables with zeros since first value is missing ----\n",
    "df['active_year_lag']=df['active_year_lag'].fillna(0)\n",
    "\n",
    "# Check\n",
    "df[[\"dyad_new_id\", \"year\", \"active_year\", \"active_year_lag\"]].head(5)"
   ]
  },
  {
   "cell_type": "code",
   "execution_count": 9,
   "metadata": {},
   "outputs": [],
   "source": [
    "### Iterate through each row Step II -----\n",
    "# if current and previous year is active --> conflict is a continuation and should be recoded as 0/-99\n",
    "\n",
    "for index, row in df.iterrows():\n",
    "    df.loc[(df['active_year'] ==1) & (df['active_year_lag'] == 1), 'active_year_onset'] = 0\n",
    "\n",
    "for index, row in df.iterrows():\n",
    "    df.loc[(df['active_year'] ==1) & (df['active_year_lag'] == 1), 'active_year_onset_drop'] = -99"
   ]
  },
  {
   "cell_type": "code",
   "execution_count": 10,
   "metadata": {},
   "outputs": [],
   "source": [
    "### Count previous transitions to active civil conflict --------\n",
    "df[\"active_roll\"] = df.groupby([\"dyad_new_id\"])[\"active_year_onset\"].cumsum()"
   ]
  },
  {
   "cell_type": "code",
   "execution_count": 11,
   "metadata": {},
   "outputs": [],
   "source": [
    "### Get list with unique dyad_ids ----\n",
    "dyad_list = df[\"dyad_new_id\"].unique()"
   ]
  },
  {
   "cell_type": "code",
   "execution_count": 12,
   "metadata": {},
   "outputs": [
    {
     "data": {
      "text/html": [
       "<div>\n",
       "<style scoped>\n",
       "    .dataframe tbody tr th:only-of-type {\n",
       "        vertical-align: middle;\n",
       "    }\n",
       "\n",
       "    .dataframe tbody tr th {\n",
       "        vertical-align: top;\n",
       "    }\n",
       "\n",
       "    .dataframe thead th {\n",
       "        text-align: right;\n",
       "    }\n",
       "</style>\n",
       "<table border=\"1\" class=\"dataframe\">\n",
       "  <thead>\n",
       "    <tr style=\"text-align: right;\">\n",
       "      <th></th>\n",
       "      <th>dyad_new_id</th>\n",
       "      <th>year</th>\n",
       "      <th>active_year</th>\n",
       "      <th>active_year_lag</th>\n",
       "      <th>active_year_onset</th>\n",
       "      <th>active_year_onset_drop</th>\n",
       "      <th>active_roll</th>\n",
       "    </tr>\n",
       "  </thead>\n",
       "  <tbody>\n",
       "    <tr>\n",
       "      <th>33</th>\n",
       "      <td>428</td>\n",
       "      <td>1989</td>\n",
       "      <td>1</td>\n",
       "      <td>0.0</td>\n",
       "      <td>1</td>\n",
       "      <td>1</td>\n",
       "      <td>1</td>\n",
       "    </tr>\n",
       "    <tr>\n",
       "      <th>34</th>\n",
       "      <td>428</td>\n",
       "      <td>1990</td>\n",
       "      <td>1</td>\n",
       "      <td>1.0</td>\n",
       "      <td>0</td>\n",
       "      <td>-99</td>\n",
       "      <td>1</td>\n",
       "    </tr>\n",
       "    <tr>\n",
       "      <th>35</th>\n",
       "      <td>428</td>\n",
       "      <td>1991</td>\n",
       "      <td>1</td>\n",
       "      <td>1.0</td>\n",
       "      <td>0</td>\n",
       "      <td>-99</td>\n",
       "      <td>1</td>\n",
       "    </tr>\n",
       "    <tr>\n",
       "      <th>36</th>\n",
       "      <td>428</td>\n",
       "      <td>1992</td>\n",
       "      <td>1</td>\n",
       "      <td>1.0</td>\n",
       "      <td>0</td>\n",
       "      <td>-99</td>\n",
       "      <td>1</td>\n",
       "    </tr>\n",
       "    <tr>\n",
       "      <th>37</th>\n",
       "      <td>428</td>\n",
       "      <td>1993</td>\n",
       "      <td>0</td>\n",
       "      <td>1.0</td>\n",
       "      <td>0</td>\n",
       "      <td>0</td>\n",
       "      <td>1</td>\n",
       "    </tr>\n",
       "    <tr>\n",
       "      <th>38</th>\n",
       "      <td>428</td>\n",
       "      <td>1994</td>\n",
       "      <td>1</td>\n",
       "      <td>0.0</td>\n",
       "      <td>1</td>\n",
       "      <td>1</td>\n",
       "      <td>2</td>\n",
       "    </tr>\n",
       "    <tr>\n",
       "      <th>39</th>\n",
       "      <td>428</td>\n",
       "      <td>1995</td>\n",
       "      <td>1</td>\n",
       "      <td>1.0</td>\n",
       "      <td>0</td>\n",
       "      <td>-99</td>\n",
       "      <td>2</td>\n",
       "    </tr>\n",
       "    <tr>\n",
       "      <th>1534</th>\n",
       "      <td>428</td>\n",
       "      <td>1996</td>\n",
       "      <td>0</td>\n",
       "      <td>1.0</td>\n",
       "      <td>0</td>\n",
       "      <td>0</td>\n",
       "      <td>2</td>\n",
       "    </tr>\n",
       "    <tr>\n",
       "      <th>40</th>\n",
       "      <td>428</td>\n",
       "      <td>1997</td>\n",
       "      <td>1</td>\n",
       "      <td>0.0</td>\n",
       "      <td>1</td>\n",
       "      <td>1</td>\n",
       "      <td>3</td>\n",
       "    </tr>\n",
       "    <tr>\n",
       "      <th>41</th>\n",
       "      <td>428</td>\n",
       "      <td>1998</td>\n",
       "      <td>1</td>\n",
       "      <td>1.0</td>\n",
       "      <td>0</td>\n",
       "      <td>-99</td>\n",
       "      <td>3</td>\n",
       "    </tr>\n",
       "    <tr>\n",
       "      <th>42</th>\n",
       "      <td>428</td>\n",
       "      <td>1999</td>\n",
       "      <td>0</td>\n",
       "      <td>1.0</td>\n",
       "      <td>0</td>\n",
       "      <td>0</td>\n",
       "      <td>3</td>\n",
       "    </tr>\n",
       "    <tr>\n",
       "      <th>43</th>\n",
       "      <td>428</td>\n",
       "      <td>2000</td>\n",
       "      <td>1</td>\n",
       "      <td>0.0</td>\n",
       "      <td>1</td>\n",
       "      <td>1</td>\n",
       "      <td>4</td>\n",
       "    </tr>\n",
       "    <tr>\n",
       "      <th>44</th>\n",
       "      <td>428</td>\n",
       "      <td>2001</td>\n",
       "      <td>1</td>\n",
       "      <td>1.0</td>\n",
       "      <td>0</td>\n",
       "      <td>-99</td>\n",
       "      <td>4</td>\n",
       "    </tr>\n",
       "    <tr>\n",
       "      <th>45</th>\n",
       "      <td>428</td>\n",
       "      <td>2002</td>\n",
       "      <td>1</td>\n",
       "      <td>1.0</td>\n",
       "      <td>0</td>\n",
       "      <td>-99</td>\n",
       "      <td>4</td>\n",
       "    </tr>\n",
       "    <tr>\n",
       "      <th>46</th>\n",
       "      <td>428</td>\n",
       "      <td>2003</td>\n",
       "      <td>1</td>\n",
       "      <td>1.0</td>\n",
       "      <td>0</td>\n",
       "      <td>-99</td>\n",
       "      <td>4</td>\n",
       "    </tr>\n",
       "    <tr>\n",
       "      <th>47</th>\n",
       "      <td>428</td>\n",
       "      <td>2004</td>\n",
       "      <td>1</td>\n",
       "      <td>1.0</td>\n",
       "      <td>0</td>\n",
       "      <td>-99</td>\n",
       "      <td>4</td>\n",
       "    </tr>\n",
       "    <tr>\n",
       "      <th>48</th>\n",
       "      <td>428</td>\n",
       "      <td>2005</td>\n",
       "      <td>1</td>\n",
       "      <td>1.0</td>\n",
       "      <td>0</td>\n",
       "      <td>-99</td>\n",
       "      <td>4</td>\n",
       "    </tr>\n",
       "    <tr>\n",
       "      <th>49</th>\n",
       "      <td>428</td>\n",
       "      <td>2006</td>\n",
       "      <td>1</td>\n",
       "      <td>1.0</td>\n",
       "      <td>0</td>\n",
       "      <td>-99</td>\n",
       "      <td>4</td>\n",
       "    </tr>\n",
       "    <tr>\n",
       "      <th>50</th>\n",
       "      <td>428</td>\n",
       "      <td>2007</td>\n",
       "      <td>1</td>\n",
       "      <td>1.0</td>\n",
       "      <td>0</td>\n",
       "      <td>-99</td>\n",
       "      <td>4</td>\n",
       "    </tr>\n",
       "    <tr>\n",
       "      <th>51</th>\n",
       "      <td>428</td>\n",
       "      <td>2008</td>\n",
       "      <td>1</td>\n",
       "      <td>1.0</td>\n",
       "      <td>0</td>\n",
       "      <td>-99</td>\n",
       "      <td>4</td>\n",
       "    </tr>\n",
       "    <tr>\n",
       "      <th>52</th>\n",
       "      <td>428</td>\n",
       "      <td>2009</td>\n",
       "      <td>1</td>\n",
       "      <td>1.0</td>\n",
       "      <td>0</td>\n",
       "      <td>-99</td>\n",
       "      <td>4</td>\n",
       "    </tr>\n",
       "    <tr>\n",
       "      <th>53</th>\n",
       "      <td>428</td>\n",
       "      <td>2010</td>\n",
       "      <td>1</td>\n",
       "      <td>1.0</td>\n",
       "      <td>0</td>\n",
       "      <td>-99</td>\n",
       "      <td>4</td>\n",
       "    </tr>\n",
       "    <tr>\n",
       "      <th>54</th>\n",
       "      <td>428</td>\n",
       "      <td>2011</td>\n",
       "      <td>1</td>\n",
       "      <td>1.0</td>\n",
       "      <td>0</td>\n",
       "      <td>-99</td>\n",
       "      <td>4</td>\n",
       "    </tr>\n",
       "  </tbody>\n",
       "</table>\n",
       "</div>"
      ],
      "text/plain": [
       "      dyad_new_id  year  active_year  active_year_lag  active_year_onset  \\\n",
       "33            428  1989            1              0.0                  1   \n",
       "34            428  1990            1              1.0                  0   \n",
       "35            428  1991            1              1.0                  0   \n",
       "36            428  1992            1              1.0                  0   \n",
       "37            428  1993            0              1.0                  0   \n",
       "38            428  1994            1              0.0                  1   \n",
       "39            428  1995            1              1.0                  0   \n",
       "1534          428  1996            0              1.0                  0   \n",
       "40            428  1997            1              0.0                  1   \n",
       "41            428  1998            1              1.0                  0   \n",
       "42            428  1999            0              1.0                  0   \n",
       "43            428  2000            1              0.0                  1   \n",
       "44            428  2001            1              1.0                  0   \n",
       "45            428  2002            1              1.0                  0   \n",
       "46            428  2003            1              1.0                  0   \n",
       "47            428  2004            1              1.0                  0   \n",
       "48            428  2005            1              1.0                  0   \n",
       "49            428  2006            1              1.0                  0   \n",
       "50            428  2007            1              1.0                  0   \n",
       "51            428  2008            1              1.0                  0   \n",
       "52            428  2009            1              1.0                  0   \n",
       "53            428  2010            1              1.0                  0   \n",
       "54            428  2011            1              1.0                  0   \n",
       "\n",
       "      active_year_onset_drop  active_roll  \n",
       "33                         1            1  \n",
       "34                       -99            1  \n",
       "35                       -99            1  \n",
       "36                       -99            1  \n",
       "37                         0            1  \n",
       "38                         1            2  \n",
       "39                       -99            2  \n",
       "1534                       0            2  \n",
       "40                         1            3  \n",
       "41                       -99            3  \n",
       "42                         0            3  \n",
       "43                         1            4  \n",
       "44                       -99            4  \n",
       "45                       -99            4  \n",
       "46                       -99            4  \n",
       "47                       -99            4  \n",
       "48                       -99            4  \n",
       "49                       -99            4  \n",
       "50                       -99            4  \n",
       "51                       -99            4  \n",
       "52                       -99            4  \n",
       "53                       -99            4  \n",
       "54                       -99            4  "
      ]
     },
     "execution_count": 12,
     "metadata": {},
     "output_type": "execute_result"
    }
   ],
   "source": [
    "### Check results manually ------\n",
    "check_onset = df[[\"dyad_new_id\", \"year\", \"active_year\", \"active_year_lag\", \n",
    "    'active_year_onset', 'active_year_onset_drop', \"active_roll\"]].loc[df[\"dyad_new_id\"]==dyad_list[4]]\n",
    "\n",
    "# Save example table \n",
    "check_onset.to_latex(os.path.join(out_paths[\"desciptive_tables_outcome\"],\"coding_onsets.tex\"), longtable=True)\n",
    "check_onset"
   ]
  },
  {
   "cell_type": "code",
   "execution_count": 13,
   "metadata": {},
   "outputs": [
    {
     "data": {
      "text/html": [
       "<div>\n",
       "<style scoped>\n",
       "    .dataframe tbody tr th:only-of-type {\n",
       "        vertical-align: middle;\n",
       "    }\n",
       "\n",
       "    .dataframe tbody tr th {\n",
       "        vertical-align: top;\n",
       "    }\n",
       "\n",
       "    .dataframe thead th {\n",
       "        text-align: right;\n",
       "    }\n",
       "</style>\n",
       "<table border=\"1\" class=\"dataframe\">\n",
       "  <thead>\n",
       "    <tr style=\"text-align: right;\">\n",
       "      <th></th>\n",
       "      <th>dyad_new_id</th>\n",
       "      <th>year</th>\n",
       "      <th>active_year</th>\n",
       "      <th>active_year_onset</th>\n",
       "      <th>active_year_onset_drop</th>\n",
       "      <th>civil_war_dummy</th>\n",
       "      <th>best</th>\n",
       "    </tr>\n",
       "  </thead>\n",
       "  <tbody>\n",
       "    <tr>\n",
       "      <th>1864</th>\n",
       "      <td>771</td>\n",
       "      <td>1991</td>\n",
       "      <td>0</td>\n",
       "      <td>0</td>\n",
       "      <td>0</td>\n",
       "      <td>0</td>\n",
       "      <td>0</td>\n",
       "    </tr>\n",
       "    <tr>\n",
       "      <th>691</th>\n",
       "      <td>705</td>\n",
       "      <td>1997</td>\n",
       "      <td>0</td>\n",
       "      <td>0</td>\n",
       "      <td>0</td>\n",
       "      <td>0</td>\n",
       "      <td>4</td>\n",
       "    </tr>\n",
       "    <tr>\n",
       "      <th>457</th>\n",
       "      <td>624</td>\n",
       "      <td>2003</td>\n",
       "      <td>1</td>\n",
       "      <td>0</td>\n",
       "      <td>-99</td>\n",
       "      <td>0</td>\n",
       "      <td>77</td>\n",
       "    </tr>\n",
       "    <tr>\n",
       "      <th>333</th>\n",
       "      <td>565</td>\n",
       "      <td>1992</td>\n",
       "      <td>1</td>\n",
       "      <td>0</td>\n",
       "      <td>-99</td>\n",
       "      <td>0</td>\n",
       "      <td>26</td>\n",
       "    </tr>\n",
       "    <tr>\n",
       "      <th>1478</th>\n",
       "      <td>906</td>\n",
       "      <td>2009</td>\n",
       "      <td>1</td>\n",
       "      <td>1</td>\n",
       "      <td>1</td>\n",
       "      <td>0</td>\n",
       "      <td>80</td>\n",
       "    </tr>\n",
       "    <tr>\n",
       "      <th>46</th>\n",
       "      <td>428</td>\n",
       "      <td>2003</td>\n",
       "      <td>1</td>\n",
       "      <td>0</td>\n",
       "      <td>-99</td>\n",
       "      <td>0</td>\n",
       "      <td>38</td>\n",
       "    </tr>\n",
       "    <tr>\n",
       "      <th>1084</th>\n",
       "      <td>804</td>\n",
       "      <td>1993</td>\n",
       "      <td>1</td>\n",
       "      <td>0</td>\n",
       "      <td>-99</td>\n",
       "      <td>0</td>\n",
       "      <td>353</td>\n",
       "    </tr>\n",
       "    <tr>\n",
       "      <th>1300</th>\n",
       "      <td>852</td>\n",
       "      <td>2000</td>\n",
       "      <td>1</td>\n",
       "      <td>0</td>\n",
       "      <td>-99</td>\n",
       "      <td>1</td>\n",
       "      <td>2907</td>\n",
       "    </tr>\n",
       "    <tr>\n",
       "      <th>18</th>\n",
       "      <td>411</td>\n",
       "      <td>2000</td>\n",
       "      <td>1</td>\n",
       "      <td>0</td>\n",
       "      <td>-99</td>\n",
       "      <td>0</td>\n",
       "      <td>140</td>\n",
       "    </tr>\n",
       "    <tr>\n",
       "      <th>1119</th>\n",
       "      <td>811</td>\n",
       "      <td>1997</td>\n",
       "      <td>0</td>\n",
       "      <td>0</td>\n",
       "      <td>0</td>\n",
       "      <td>0</td>\n",
       "      <td>11</td>\n",
       "    </tr>\n",
       "  </tbody>\n",
       "</table>\n",
       "</div>"
      ],
      "text/plain": [
       "      dyad_new_id  year  active_year  active_year_onset  \\\n",
       "1864          771  1991            0                  0   \n",
       "691           705  1997            0                  0   \n",
       "457           624  2003            1                  0   \n",
       "333           565  1992            1                  0   \n",
       "1478          906  2009            1                  1   \n",
       "46            428  2003            1                  0   \n",
       "1084          804  1993            1                  0   \n",
       "1300          852  2000            1                  0   \n",
       "18            411  2000            1                  0   \n",
       "1119          811  1997            0                  0   \n",
       "\n",
       "      active_year_onset_drop  civil_war_dummy  best  \n",
       "1864                       0                0     0  \n",
       "691                        0                0     4  \n",
       "457                      -99                0    77  \n",
       "333                      -99                0    26  \n",
       "1478                       1                0    80  \n",
       "46                       -99                0    38  \n",
       "1084                     -99                0   353  \n",
       "1300                     -99                1  2907  \n",
       "18                       -99                0   140  \n",
       "1119                       0                0    11  "
      ]
     },
     "execution_count": 13,
     "metadata": {},
     "output_type": "execute_result"
    }
   ],
   "source": [
    "### Code dummy variable for civil war onset -----\n",
    "df[\"civil_war_dummy\"] = 0\n",
    "\n",
    "df.loc[df[\"best\"]>=1000, \"civil_war_dummy\"]=1\n",
    "df.loc[df[\"best\"]<1000, \"civil_war_dummy\"]=0\n",
    "\n",
    "# Check code by drawing random sample \n",
    "df[[\"dyad_new_id\", \"year\", \"active_year\", 'active_year_onset', \n",
    "    'active_year_onset_drop', \"civil_war_dummy\", 'best']].sample(n = 10)\n",
    "# Comment: if active_year_onset is used instead of active_year_onset_drop, the civil_war_dummy needs to be recoded for \n",
    "# for consecutive years of armed conflict?"
   ]
  },
  {
   "cell_type": "code",
   "execution_count": 14,
   "metadata": {},
   "outputs": [
    {
     "data": {
      "text/html": [
       "<div>\n",
       "<style scoped>\n",
       "    .dataframe tbody tr th:only-of-type {\n",
       "        vertical-align: middle;\n",
       "    }\n",
       "\n",
       "    .dataframe tbody tr th {\n",
       "        vertical-align: top;\n",
       "    }\n",
       "\n",
       "    .dataframe thead th {\n",
       "        text-align: right;\n",
       "    }\n",
       "</style>\n",
       "<table border=\"1\" class=\"dataframe\">\n",
       "  <thead>\n",
       "    <tr style=\"text-align: right;\">\n",
       "      <th></th>\n",
       "      <th>year</th>\n",
       "      <th>StateAbb</th>\n",
       "      <th>ccode</th>\n",
       "      <th>cname</th>\n",
       "      <th>side_a</th>\n",
       "      <th>side_a_new_id</th>\n",
       "      <th>side_b</th>\n",
       "      <th>side_b_new_id</th>\n",
       "      <th>dyad_name</th>\n",
       "      <th>dyad_new_id</th>\n",
       "      <th>...</th>\n",
       "      <th>gov_qual</th>\n",
       "      <th>milexp_in</th>\n",
       "      <th>milper_in</th>\n",
       "      <th>polity2</th>\n",
       "      <th>internet_use</th>\n",
       "      <th>active_year_lag</th>\n",
       "      <th>active_year_onset</th>\n",
       "      <th>active_year_onset_drop</th>\n",
       "      <th>active_roll</th>\n",
       "      <th>civil_war_dummy</th>\n",
       "    </tr>\n",
       "  </thead>\n",
       "  <tbody>\n",
       "    <tr>\n",
       "      <th>0</th>\n",
       "      <td>1989</td>\n",
       "      <td>IRN</td>\n",
       "      <td>630</td>\n",
       "      <td>Iran</td>\n",
       "      <td>Government of Iran</td>\n",
       "      <td>114</td>\n",
       "      <td>KDPI</td>\n",
       "      <td>164</td>\n",
       "      <td>Government of Iran - KDPI</td>\n",
       "      <td>406</td>\n",
       "      <td>...</td>\n",
       "      <td>0.305556</td>\n",
       "      <td>1.813994</td>\n",
       "      <td>1.207825</td>\n",
       "      <td>-6.0</td>\n",
       "      <td>4.260658</td>\n",
       "      <td>0.0</td>\n",
       "      <td>0</td>\n",
       "      <td>0</td>\n",
       "      <td>0</td>\n",
       "      <td>0</td>\n",
       "    </tr>\n",
       "    <tr>\n",
       "      <th>1</th>\n",
       "      <td>1990</td>\n",
       "      <td>IRN</td>\n",
       "      <td>630</td>\n",
       "      <td>Iran</td>\n",
       "      <td>Government of Iran</td>\n",
       "      <td>114</td>\n",
       "      <td>KDPI</td>\n",
       "      <td>164</td>\n",
       "      <td>Government of Iran - KDPI</td>\n",
       "      <td>406</td>\n",
       "      <td>...</td>\n",
       "      <td>0.305556</td>\n",
       "      <td>1.840000</td>\n",
       "      <td>0.520000</td>\n",
       "      <td>-6.0</td>\n",
       "      <td>0.000000</td>\n",
       "      <td>0.0</td>\n",
       "      <td>1</td>\n",
       "      <td>1</td>\n",
       "      <td>1</td>\n",
       "      <td>0</td>\n",
       "    </tr>\n",
       "    <tr>\n",
       "      <th>2</th>\n",
       "      <td>1991</td>\n",
       "      <td>IRN</td>\n",
       "      <td>630</td>\n",
       "      <td>Iran</td>\n",
       "      <td>Government of Iran</td>\n",
       "      <td>114</td>\n",
       "      <td>KDPI</td>\n",
       "      <td>164</td>\n",
       "      <td>Government of Iran - KDPI</td>\n",
       "      <td>406</td>\n",
       "      <td>...</td>\n",
       "      <td>0.370370</td>\n",
       "      <td>1.520000</td>\n",
       "      <td>0.520000</td>\n",
       "      <td>-6.0</td>\n",
       "      <td>0.000000</td>\n",
       "      <td>1.0</td>\n",
       "      <td>0</td>\n",
       "      <td>0</td>\n",
       "      <td>1</td>\n",
       "      <td>0</td>\n",
       "    </tr>\n",
       "  </tbody>\n",
       "</table>\n",
       "<p>3 rows × 100 columns</p>\n",
       "</div>"
      ],
      "text/plain": [
       "   year StateAbb  ccode cname              side_a  side_a_new_id side_b  \\\n",
       "0  1989      IRN    630  Iran  Government of Iran            114   KDPI   \n",
       "1  1990      IRN    630  Iran  Government of Iran            114   KDPI   \n",
       "2  1991      IRN    630  Iran  Government of Iran            114   KDPI   \n",
       "\n",
       "   side_b_new_id                  dyad_name  dyad_new_id  ...  gov_qual  \\\n",
       "0            164  Government of Iran - KDPI          406  ...  0.305556   \n",
       "1            164  Government of Iran - KDPI          406  ...  0.305556   \n",
       "2            164  Government of Iran - KDPI          406  ...  0.370370   \n",
       "\n",
       "   milexp_in  milper_in  polity2 internet_use  active_year_lag  \\\n",
       "0   1.813994   1.207825     -6.0     4.260658              0.0   \n",
       "1   1.840000   0.520000     -6.0     0.000000              0.0   \n",
       "2   1.520000   0.520000     -6.0     0.000000              1.0   \n",
       "\n",
       "   active_year_onset  active_year_onset_drop  active_roll  civil_war_dummy  \n",
       "0                  0                       0            0                0  \n",
       "1                  1                       1            1                0  \n",
       "2                  0                       0            1                0  \n",
       "\n",
       "[3 rows x 100 columns]"
      ]
     },
     "execution_count": 14,
     "metadata": {},
     "output_type": "execute_result"
    }
   ],
   "source": [
    "### Reset index -------\n",
    "df.reset_index(drop=True, inplace=True)\n",
    "df.head(3)"
   ]
  },
  {
   "cell_type": "code",
   "execution_count": 15,
   "metadata": {},
   "outputs": [
    {
     "data": {
      "text/plain": [
       "array([0, 1], dtype=int64)"
      ]
     },
     "execution_count": 15,
     "metadata": {},
     "output_type": "execute_result"
    }
   ],
   "source": [
    "### Make subset of data according to onset variable - drop observations with active_year_onset_drop=-99 ------\n",
    "df_s = df.loc[(df[\"active_year_onset_drop\"]==0) | (df[\"active_year_onset_drop\"]==1) ]\n",
    "df_s[\"active_year_onset_drop\"].unique()"
   ]
  },
  {
   "cell_type": "code",
   "execution_count": 16,
   "metadata": {},
   "outputs": [
    {
     "data": {
      "text/html": [
       "<div>\n",
       "<style scoped>\n",
       "    .dataframe tbody tr th:only-of-type {\n",
       "        vertical-align: middle;\n",
       "    }\n",
       "\n",
       "    .dataframe tbody tr th {\n",
       "        vertical-align: top;\n",
       "    }\n",
       "\n",
       "    .dataframe thead th {\n",
       "        text-align: right;\n",
       "    }\n",
       "</style>\n",
       "<table border=\"1\" class=\"dataframe\">\n",
       "  <thead>\n",
       "    <tr style=\"text-align: right;\">\n",
       "      <th></th>\n",
       "      <th>year</th>\n",
       "      <th>StateAbb</th>\n",
       "      <th>ccode</th>\n",
       "      <th>cname</th>\n",
       "      <th>side_a</th>\n",
       "      <th>side_a_new_id</th>\n",
       "      <th>side_b</th>\n",
       "      <th>side_b_new_id</th>\n",
       "      <th>dyad_name</th>\n",
       "      <th>dyad_new_id</th>\n",
       "      <th>...</th>\n",
       "      <th>gov_qual</th>\n",
       "      <th>milexp_in</th>\n",
       "      <th>milper_in</th>\n",
       "      <th>polity2</th>\n",
       "      <th>internet_use</th>\n",
       "      <th>active_year_lag</th>\n",
       "      <th>active_year_onset</th>\n",
       "      <th>active_year_onset_drop</th>\n",
       "      <th>active_roll</th>\n",
       "      <th>civil_war_dummy</th>\n",
       "    </tr>\n",
       "  </thead>\n",
       "  <tbody>\n",
       "    <tr>\n",
       "      <th>0</th>\n",
       "      <td>1989</td>\n",
       "      <td>IRN</td>\n",
       "      <td>630</td>\n",
       "      <td>Iran</td>\n",
       "      <td>Government of Iran</td>\n",
       "      <td>114</td>\n",
       "      <td>KDPI</td>\n",
       "      <td>164</td>\n",
       "      <td>Government of Iran - KDPI</td>\n",
       "      <td>406</td>\n",
       "      <td>...</td>\n",
       "      <td>0.305556</td>\n",
       "      <td>1.813994</td>\n",
       "      <td>1.207825</td>\n",
       "      <td>-6.0</td>\n",
       "      <td>4.260658</td>\n",
       "      <td>0.0</td>\n",
       "      <td>0</td>\n",
       "      <td>0</td>\n",
       "      <td>0</td>\n",
       "      <td>0</td>\n",
       "    </tr>\n",
       "    <tr>\n",
       "      <th>1</th>\n",
       "      <td>1990</td>\n",
       "      <td>IRN</td>\n",
       "      <td>630</td>\n",
       "      <td>Iran</td>\n",
       "      <td>Government of Iran</td>\n",
       "      <td>114</td>\n",
       "      <td>KDPI</td>\n",
       "      <td>164</td>\n",
       "      <td>Government of Iran - KDPI</td>\n",
       "      <td>406</td>\n",
       "      <td>...</td>\n",
       "      <td>0.305556</td>\n",
       "      <td>1.840000</td>\n",
       "      <td>0.520000</td>\n",
       "      <td>-6.0</td>\n",
       "      <td>0.000000</td>\n",
       "      <td>0.0</td>\n",
       "      <td>1</td>\n",
       "      <td>1</td>\n",
       "      <td>1</td>\n",
       "      <td>0</td>\n",
       "    </tr>\n",
       "    <tr>\n",
       "      <th>2</th>\n",
       "      <td>1991</td>\n",
       "      <td>IRN</td>\n",
       "      <td>630</td>\n",
       "      <td>Iran</td>\n",
       "      <td>Government of Iran</td>\n",
       "      <td>114</td>\n",
       "      <td>KDPI</td>\n",
       "      <td>164</td>\n",
       "      <td>Government of Iran - KDPI</td>\n",
       "      <td>406</td>\n",
       "      <td>...</td>\n",
       "      <td>0.370370</td>\n",
       "      <td>1.520000</td>\n",
       "      <td>0.520000</td>\n",
       "      <td>-6.0</td>\n",
       "      <td>0.000000</td>\n",
       "      <td>1.0</td>\n",
       "      <td>0</td>\n",
       "      <td>0</td>\n",
       "      <td>1</td>\n",
       "      <td>0</td>\n",
       "    </tr>\n",
       "  </tbody>\n",
       "</table>\n",
       "<p>3 rows × 100 columns</p>\n",
       "</div>"
      ],
      "text/plain": [
       "   year StateAbb  ccode cname              side_a  side_a_new_id side_b  \\\n",
       "0  1989      IRN    630  Iran  Government of Iran            114   KDPI   \n",
       "1  1990      IRN    630  Iran  Government of Iran            114   KDPI   \n",
       "2  1991      IRN    630  Iran  Government of Iran            114   KDPI   \n",
       "\n",
       "   side_b_new_id                  dyad_name  dyad_new_id  ...  gov_qual  \\\n",
       "0            164  Government of Iran - KDPI          406  ...  0.305556   \n",
       "1            164  Government of Iran - KDPI          406  ...  0.305556   \n",
       "2            164  Government of Iran - KDPI          406  ...  0.370370   \n",
       "\n",
       "   milexp_in  milper_in  polity2 internet_use  active_year_lag  \\\n",
       "0   1.813994   1.207825     -6.0     4.260658              0.0   \n",
       "1   1.840000   0.520000     -6.0     0.000000              0.0   \n",
       "2   1.520000   0.520000     -6.0     0.000000              1.0   \n",
       "\n",
       "   active_year_onset  active_year_onset_drop  active_roll  civil_war_dummy  \n",
       "0                  0                       0            0                0  \n",
       "1                  1                       1            1                0  \n",
       "2                  0                       0            1                0  \n",
       "\n",
       "[3 rows x 100 columns]"
      ]
     },
     "execution_count": 16,
     "metadata": {},
     "output_type": "execute_result"
    }
   ],
   "source": [
    "### Reset index -------\n",
    "df_s.reset_index(drop=True, inplace=True)\n",
    "df_s.head(3)"
   ]
  },
  {
   "cell_type": "code",
   "execution_count": 17,
   "metadata": {},
   "outputs": [
    {
     "data": {
      "text/html": [
       "<div>\n",
       "<style scoped>\n",
       "    .dataframe tbody tr th:only-of-type {\n",
       "        vertical-align: middle;\n",
       "    }\n",
       "\n",
       "    .dataframe tbody tr th {\n",
       "        vertical-align: top;\n",
       "    }\n",
       "\n",
       "    .dataframe thead th {\n",
       "        text-align: right;\n",
       "    }\n",
       "</style>\n",
       "<table border=\"1\" class=\"dataframe\">\n",
       "  <thead>\n",
       "    <tr style=\"text-align: right;\">\n",
       "      <th></th>\n",
       "      <th>dyad_new_id</th>\n",
       "      <th>year</th>\n",
       "      <th>active_year</th>\n",
       "      <th>active_year_lag</th>\n",
       "      <th>active_year_onset</th>\n",
       "      <th>active_year_onset_drop</th>\n",
       "      <th>active_roll</th>\n",
       "    </tr>\n",
       "  </thead>\n",
       "  <tbody>\n",
       "    <tr>\n",
       "      <th>30</th>\n",
       "      <td>428</td>\n",
       "      <td>1989</td>\n",
       "      <td>1</td>\n",
       "      <td>0.0</td>\n",
       "      <td>1</td>\n",
       "      <td>1</td>\n",
       "      <td>1</td>\n",
       "    </tr>\n",
       "    <tr>\n",
       "      <th>31</th>\n",
       "      <td>428</td>\n",
       "      <td>1993</td>\n",
       "      <td>0</td>\n",
       "      <td>1.0</td>\n",
       "      <td>0</td>\n",
       "      <td>0</td>\n",
       "      <td>1</td>\n",
       "    </tr>\n",
       "    <tr>\n",
       "      <th>32</th>\n",
       "      <td>428</td>\n",
       "      <td>1994</td>\n",
       "      <td>1</td>\n",
       "      <td>0.0</td>\n",
       "      <td>1</td>\n",
       "      <td>1</td>\n",
       "      <td>2</td>\n",
       "    </tr>\n",
       "    <tr>\n",
       "      <th>33</th>\n",
       "      <td>428</td>\n",
       "      <td>1996</td>\n",
       "      <td>0</td>\n",
       "      <td>1.0</td>\n",
       "      <td>0</td>\n",
       "      <td>0</td>\n",
       "      <td>2</td>\n",
       "    </tr>\n",
       "    <tr>\n",
       "      <th>34</th>\n",
       "      <td>428</td>\n",
       "      <td>1997</td>\n",
       "      <td>1</td>\n",
       "      <td>0.0</td>\n",
       "      <td>1</td>\n",
       "      <td>1</td>\n",
       "      <td>3</td>\n",
       "    </tr>\n",
       "    <tr>\n",
       "      <th>35</th>\n",
       "      <td>428</td>\n",
       "      <td>1999</td>\n",
       "      <td>0</td>\n",
       "      <td>1.0</td>\n",
       "      <td>0</td>\n",
       "      <td>0</td>\n",
       "      <td>3</td>\n",
       "    </tr>\n",
       "    <tr>\n",
       "      <th>36</th>\n",
       "      <td>428</td>\n",
       "      <td>2000</td>\n",
       "      <td>1</td>\n",
       "      <td>0.0</td>\n",
       "      <td>1</td>\n",
       "      <td>1</td>\n",
       "      <td>4</td>\n",
       "    </tr>\n",
       "  </tbody>\n",
       "</table>\n",
       "</div>"
      ],
      "text/plain": [
       "    dyad_new_id  year  active_year  active_year_lag  active_year_onset  \\\n",
       "30          428  1989            1              0.0                  1   \n",
       "31          428  1993            0              1.0                  0   \n",
       "32          428  1994            1              0.0                  1   \n",
       "33          428  1996            0              1.0                  0   \n",
       "34          428  1997            1              0.0                  1   \n",
       "35          428  1999            0              1.0                  0   \n",
       "36          428  2000            1              0.0                  1   \n",
       "\n",
       "    active_year_onset_drop  active_roll  \n",
       "30                       1            1  \n",
       "31                       0            1  \n",
       "32                       1            2  \n",
       "33                       0            2  \n",
       "34                       1            3  \n",
       "35                       0            3  \n",
       "36                       1            4  "
      ]
     },
     "execution_count": 17,
     "metadata": {},
     "output_type": "execute_result"
    }
   ],
   "source": [
    "### Check results ------\n",
    "df_s[[\"dyad_new_id\", \"year\", \"active_year\", \"active_year_lag\", \n",
    "    'active_year_onset', 'active_year_onset_drop', \"active_roll\"]].loc[df_s[\"dyad_new_id\"]==dyad_list[4]]"
   ]
  },
  {
   "cell_type": "markdown",
   "metadata": {},
   "source": [
    "## Descriptive Analysis\n",
    "This section implements the descriptive analysis. First, some specific descriptive information are obtained which are used in the written sections of the thesis. After this, all indicators are investigated using a number of scores."
   ]
  },
  {
   "cell_type": "code",
   "execution_count": 18,
   "metadata": {},
   "outputs": [
    {
     "data": {
      "text/html": [
       "<div>\n",
       "<style scoped>\n",
       "    .dataframe tbody tr th:only-of-type {\n",
       "        vertical-align: middle;\n",
       "    }\n",
       "\n",
       "    .dataframe tbody tr th {\n",
       "        vertical-align: top;\n",
       "    }\n",
       "\n",
       "    .dataframe thead th {\n",
       "        text-align: right;\n",
       "    }\n",
       "</style>\n",
       "<table border=\"1\" class=\"dataframe\">\n",
       "  <thead>\n",
       "    <tr style=\"text-align: right;\">\n",
       "      <th></th>\n",
       "      <th>dyad_name</th>\n",
       "      <th>year</th>\n",
       "      <th>active_year</th>\n",
       "      <th>best</th>\n",
       "    </tr>\n",
       "  </thead>\n",
       "  <tbody>\n",
       "    <tr>\n",
       "      <th>1166</th>\n",
       "      <td>Government of Somalia - ARS/UIC</td>\n",
       "      <td>2009</td>\n",
       "      <td>0</td>\n",
       "      <td>13</td>\n",
       "    </tr>\n",
       "    <tr>\n",
       "      <th>1168</th>\n",
       "      <td>Government of Somalia - Al-Shabaab</td>\n",
       "      <td>2009</td>\n",
       "      <td>1</td>\n",
       "      <td>1399</td>\n",
       "    </tr>\n",
       "    <tr>\n",
       "      <th>1171</th>\n",
       "      <td>Government of Somalia - Hizbul Islam</td>\n",
       "      <td>2009</td>\n",
       "      <td>1</td>\n",
       "      <td>68</td>\n",
       "    </tr>\n",
       "  </tbody>\n",
       "</table>\n",
       "</div>"
      ],
      "text/plain": [
       "                                 dyad_name  year  active_year  best\n",
       "1166       Government of Somalia - ARS/UIC  2009            0    13\n",
       "1168    Government of Somalia - Al-Shabaab  2009            1  1399\n",
       "1171  Government of Somalia - Hizbul Islam  2009            1    68"
      ]
     },
     "execution_count": 18,
     "metadata": {},
     "output_type": "execute_result"
    }
   ],
   "source": [
    "### How many rebel groups are operating against the Government in Somalia in 2009? --------\n",
    "outcome_con = df[[\"dyad_name\", \"year\", \"active_year\", \"best\"]][(df[\"year\"]==2009) & (df[\"side_a\"]==\"Government of Somalia\")] \n",
    "outcome_con"
   ]
  },
  {
   "cell_type": "code",
   "execution_count": 19,
   "metadata": {},
   "outputs": [
    {
     "data": {
      "text/html": [
       "<div>\n",
       "<style scoped>\n",
       "    .dataframe tbody tr th:only-of-type {\n",
       "        vertical-align: middle;\n",
       "    }\n",
       "\n",
       "    .dataframe tbody tr th {\n",
       "        vertical-align: top;\n",
       "    }\n",
       "\n",
       "    .dataframe thead th {\n",
       "        text-align: right;\n",
       "    }\n",
       "</style>\n",
       "<table border=\"1\" class=\"dataframe\">\n",
       "  <thead>\n",
       "    <tr style=\"text-align: right;\">\n",
       "      <th></th>\n",
       "      <th>year</th>\n",
       "      <th>cname</th>\n",
       "      <th>dyad_name</th>\n",
       "      <th>active_year</th>\n",
       "      <th>best</th>\n",
       "      <th>active_year_onset</th>\n",
       "    </tr>\n",
       "  </thead>\n",
       "  <tbody>\n",
       "    <tr>\n",
       "      <th>1163</th>\n",
       "      <td>2006</td>\n",
       "      <td>Somalia</td>\n",
       "      <td>Government of Somalia - ARS/UIC</td>\n",
       "      <td>1</td>\n",
       "      <td>547</td>\n",
       "      <td>1</td>\n",
       "    </tr>\n",
       "    <tr>\n",
       "      <th>1164</th>\n",
       "      <td>2007</td>\n",
       "      <td>Somalia</td>\n",
       "      <td>Government of Somalia - ARS/UIC</td>\n",
       "      <td>1</td>\n",
       "      <td>1546</td>\n",
       "      <td>0</td>\n",
       "    </tr>\n",
       "    <tr>\n",
       "      <th>1165</th>\n",
       "      <td>2008</td>\n",
       "      <td>Somalia</td>\n",
       "      <td>Government of Somalia - ARS/UIC</td>\n",
       "      <td>1</td>\n",
       "      <td>207</td>\n",
       "      <td>0</td>\n",
       "    </tr>\n",
       "    <tr>\n",
       "      <th>1167</th>\n",
       "      <td>2008</td>\n",
       "      <td>Somalia</td>\n",
       "      <td>Government of Somalia - Al-Shabaab</td>\n",
       "      <td>1</td>\n",
       "      <td>1284</td>\n",
       "      <td>1</td>\n",
       "    </tr>\n",
       "    <tr>\n",
       "      <th>1166</th>\n",
       "      <td>2009</td>\n",
       "      <td>Somalia</td>\n",
       "      <td>Government of Somalia - ARS/UIC</td>\n",
       "      <td>0</td>\n",
       "      <td>13</td>\n",
       "      <td>0</td>\n",
       "    </tr>\n",
       "    <tr>\n",
       "      <th>1168</th>\n",
       "      <td>2009</td>\n",
       "      <td>Somalia</td>\n",
       "      <td>Government of Somalia - Al-Shabaab</td>\n",
       "      <td>1</td>\n",
       "      <td>1399</td>\n",
       "      <td>0</td>\n",
       "    </tr>\n",
       "    <tr>\n",
       "      <th>1171</th>\n",
       "      <td>2009</td>\n",
       "      <td>Somalia</td>\n",
       "      <td>Government of Somalia - Hizbul Islam</td>\n",
       "      <td>1</td>\n",
       "      <td>68</td>\n",
       "      <td>1</td>\n",
       "    </tr>\n",
       "    <tr>\n",
       "      <th>1169</th>\n",
       "      <td>2010</td>\n",
       "      <td>Somalia</td>\n",
       "      <td>Government of Somalia - Al-Shabaab</td>\n",
       "      <td>1</td>\n",
       "      <td>2068</td>\n",
       "      <td>0</td>\n",
       "    </tr>\n",
       "    <tr>\n",
       "      <th>1172</th>\n",
       "      <td>2010</td>\n",
       "      <td>Somalia</td>\n",
       "      <td>Government of Somalia - Hizbul Islam</td>\n",
       "      <td>1</td>\n",
       "      <td>82</td>\n",
       "      <td>0</td>\n",
       "    </tr>\n",
       "  </tbody>\n",
       "</table>\n",
       "</div>"
      ],
      "text/plain": [
       "      year    cname                             dyad_name  active_year  best  \\\n",
       "1163  2006  Somalia       Government of Somalia - ARS/UIC            1   547   \n",
       "1164  2007  Somalia       Government of Somalia - ARS/UIC            1  1546   \n",
       "1165  2008  Somalia       Government of Somalia - ARS/UIC            1   207   \n",
       "1167  2008  Somalia    Government of Somalia - Al-Shabaab            1  1284   \n",
       "1166  2009  Somalia       Government of Somalia - ARS/UIC            0    13   \n",
       "1168  2009  Somalia    Government of Somalia - Al-Shabaab            1  1399   \n",
       "1171  2009  Somalia  Government of Somalia - Hizbul Islam            1    68   \n",
       "1169  2010  Somalia    Government of Somalia - Al-Shabaab            1  2068   \n",
       "1172  2010  Somalia  Government of Somalia - Hizbul Islam            1    82   \n",
       "\n",
       "      active_year_onset  \n",
       "1163                  1  \n",
       "1164                  0  \n",
       "1165                  0  \n",
       "1167                  1  \n",
       "1166                  0  \n",
       "1168                  0  \n",
       "1171                  1  \n",
       "1169                  0  \n",
       "1172                  0  "
      ]
     },
     "execution_count": 19,
     "metadata": {},
     "output_type": "execute_result"
    }
   ],
   "source": [
    "### Show level of analysis for a couple of cases in the data ------\n",
    "sub=df[[\"year\",\"cname\",\"dyad_name\",\"active_year\", \"best\", \"active_year_onset\"]].loc[(df[\"cname\"]==\"Somalia\") & (df[\"year\"]==2006) \n",
    "                                                                        | (df[\"cname\"]==\"Somalia\") & (df[\"year\"]==2007) \n",
    "                                                                        | (df[\"cname\"]==\"Somalia\") & (df[\"year\"]==2008)\n",
    "                                                                        | (df[\"cname\"]==\"Somalia\") & (df[\"year\"]==2009)\n",
    "                                                                        | (df[\"cname\"]==\"Somalia\") & (df[\"year\"]==2010)]\n",
    "sub=sub.sort_values(by=['year', \"dyad_name\"])\n",
    "\n",
    "# Save table\n",
    "sub.to_latex(os.path.join(out_paths[\"desciptive_tables_outcome\"], f\"show_level_of_analysis.tex\"), index=False)\n",
    "sub"
   ]
  },
  {
   "cell_type": "code",
   "execution_count": 20,
   "metadata": {},
   "outputs": [
    {
     "name": "stdout",
     "output_type": "stream",
     "text": [
      "74\n",
      "73\n",
      "252\n"
     ]
    }
   ],
   "source": [
    "### Get table with all dyads and dyads in countries --------\n",
    "check_g = df.groupby([\"dyad_new_id\", \"dyad_name\"]).size().reset_index().rename(columns={0:'count'}) # get dyad_id and dyd_name\n",
    "check_g.to_latex(os.path.join(out_paths[\"desciptive_tables_outcome\"],\"dyad_tab.tex\"), longtable=True)\n",
    "\n",
    "check_c = df.groupby([\"cname\", \"dyad_name\"]).size().reset_index().rename(columns={0:'count'}) # get dyad_name and country\n",
    "check_c.to_latex(os.path.join(out_paths[\"desciptive_tables_outcome\"],\"country_tab.tex\"), longtable=True)\n",
    "\n",
    "check_c_ab = df.groupby([\"StateAbb\", \"dyad_name\"]).size().reset_index().rename(columns={0:'count'})\n",
    "\n",
    "# How many countries and dyads are in data \n",
    "print(len(check_c[\"cname\"].unique())) #  Russia is named Russia and USSR --> yields 74 countries\n",
    "print(len(check_c_ab[\"StateAbb\"].unique())) # but actually there are only 73 unique countries\n",
    "print(len(check_g[\"dyad_new_id\"].unique())) # 252 unique dyads"
   ]
  },
  {
   "cell_type": "code",
   "execution_count": 21,
   "metadata": {},
   "outputs": [
    {
     "name": "stdout",
     "output_type": "stream",
     "text": [
      "    dyad_new_id  active_roll\n",
      "70          628            0\n"
     ]
    },
    {
     "data": {
      "text/html": [
       "<div>\n",
       "<style scoped>\n",
       "    .dataframe tbody tr th:only-of-type {\n",
       "        vertical-align: middle;\n",
       "    }\n",
       "\n",
       "    .dataframe tbody tr th {\n",
       "        vertical-align: top;\n",
       "    }\n",
       "\n",
       "    .dataframe thead th {\n",
       "        text-align: right;\n",
       "    }\n",
       "</style>\n",
       "<table border=\"1\" class=\"dataframe\">\n",
       "  <thead>\n",
       "    <tr style=\"text-align: right;\">\n",
       "      <th></th>\n",
       "      <th>year</th>\n",
       "      <th>dyad_new_id</th>\n",
       "      <th>dyad_name</th>\n",
       "      <th>active_year</th>\n",
       "    </tr>\n",
       "  </thead>\n",
       "  <tbody>\n",
       "    <tr>\n",
       "      <th>634</th>\n",
       "      <td>1989</td>\n",
       "      <td>628</td>\n",
       "      <td>Government of Indonesia - OPM</td>\n",
       "      <td>0</td>\n",
       "    </tr>\n",
       "    <tr>\n",
       "      <th>635</th>\n",
       "      <td>1990</td>\n",
       "      <td>628</td>\n",
       "      <td>Government of Indonesia - OPM</td>\n",
       "      <td>0</td>\n",
       "    </tr>\n",
       "    <tr>\n",
       "      <th>636</th>\n",
       "      <td>1991</td>\n",
       "      <td>628</td>\n",
       "      <td>Government of Indonesia - OPM</td>\n",
       "      <td>0</td>\n",
       "    </tr>\n",
       "  </tbody>\n",
       "</table>\n",
       "</div>"
      ],
      "text/plain": [
       "     year  dyad_new_id                      dyad_name  active_year\n",
       "634  1989          628  Government of Indonesia - OPM            0\n",
       "635  1990          628  Government of Indonesia - OPM            0\n",
       "636  1991          628  Government of Indonesia - OPM            0"
      ]
     },
     "execution_count": 21,
     "metadata": {},
     "output_type": "execute_result"
    }
   ],
   "source": [
    "### how many dyad never surpass 25? -----\n",
    "never = df.groupby([\"dyad_new_id\"])['active_roll'].sum().reset_index().rename(columns={0:'count'})\n",
    "print(never.loc[(never[\"active_roll\"]==0)]) # only one dyad never transitions to active civil conflict\n",
    "# within the time period of the analysis\n",
    "df[[\"year\",\"dyad_new_id\", \"dyad_name\", \"active_year\"]].loc[df[\"dyad_new_id\"] == 628].head(3)"
   ]
  },
  {
   "cell_type": "code",
   "execution_count": 22,
   "metadata": {},
   "outputs": [
    {
     "name": "stdout",
     "output_type": "stream",
     "text": [
      "69\n"
     ]
    },
    {
     "data": {
      "text/plain": [
       "252"
      ]
     },
     "execution_count": 22,
     "metadata": {},
     "output_type": "execute_result"
    }
   ],
   "source": [
    "### how many dyads have repeated transitions? ---\n",
    "repeat = df_s.groupby([\"dyad_new_id\"])[['active_year_onset_drop']].sum() # sum conflict onset variable\n",
    "repeat_s = repeat.loc[repeat[\"active_year_onset_drop\"]>=2] # subset to only include dyads which have multiple onset >= 2\n",
    "print(len(repeat_s)) # sum dyads which have multiple onsets\n",
    "len(df[\"dyad_new_id\"].unique()) # sum total dyads\n",
    "# 69 out of 252 dyads have repeated transitions"
   ]
  },
  {
   "cell_type": "code",
   "execution_count": 23,
   "metadata": {},
   "outputs": [
    {
     "name": "stdout",
     "output_type": "stream",
     "text": [
      "active_year_onset_drop    3\n",
      "Name: 411, dtype: int64\n"
     ]
    },
    {
     "data": {
      "text/html": [
       "<div>\n",
       "<style scoped>\n",
       "    .dataframe tbody tr th:only-of-type {\n",
       "        vertical-align: middle;\n",
       "    }\n",
       "\n",
       "    .dataframe tbody tr th {\n",
       "        vertical-align: top;\n",
       "    }\n",
       "\n",
       "    .dataframe thead th {\n",
       "        text-align: right;\n",
       "    }\n",
       "</style>\n",
       "<table border=\"1\" class=\"dataframe\">\n",
       "  <thead>\n",
       "    <tr style=\"text-align: right;\">\n",
       "      <th></th>\n",
       "      <th>year</th>\n",
       "      <th>dyad_new_id</th>\n",
       "      <th>dyad_name</th>\n",
       "      <th>active_year_onset_drop</th>\n",
       "    </tr>\n",
       "  </thead>\n",
       "  <tbody>\n",
       "    <tr>\n",
       "      <th>23</th>\n",
       "      <td>1989</td>\n",
       "      <td>411</td>\n",
       "      <td>Government of Philippines - CPP</td>\n",
       "      <td>1</td>\n",
       "    </tr>\n",
       "    <tr>\n",
       "      <th>24</th>\n",
       "      <td>1990</td>\n",
       "      <td>411</td>\n",
       "      <td>Government of Philippines - CPP</td>\n",
       "      <td>-99</td>\n",
       "    </tr>\n",
       "    <tr>\n",
       "      <th>25</th>\n",
       "      <td>1991</td>\n",
       "      <td>411</td>\n",
       "      <td>Government of Philippines - CPP</td>\n",
       "      <td>-99</td>\n",
       "    </tr>\n",
       "  </tbody>\n",
       "</table>\n",
       "</div>"
      ],
      "text/plain": [
       "    year  dyad_new_id                        dyad_name  active_year_onset_drop\n",
       "23  1989          411  Government of Philippines - CPP                       1\n",
       "24  1990          411  Government of Philippines - CPP                     -99\n",
       "25  1991          411  Government of Philippines - CPP                     -99"
      ]
     },
     "execution_count": 23,
     "metadata": {},
     "output_type": "execute_result"
    }
   ],
   "source": [
    "### Check ---\n",
    "print(repeat_s.iloc[1])\n",
    "df[[\"year\",\"dyad_new_id\", \"dyad_name\", \"active_year_onset_drop\"]].loc[df[\"dyad_new_id\"] == 411].head(3) ### <-- remove head to see all 3 transitions"
   ]
  },
  {
   "cell_type": "code",
   "execution_count": 24,
   "metadata": {},
   "outputs": [
    {
     "data": {
      "text/plain": [
       "366"
      ]
     },
     "execution_count": 24,
     "metadata": {},
     "output_type": "execute_result"
    }
   ],
   "source": [
    "### Number of onsets ----\n",
    "repeat[\"active_year_onset_drop\"].sum()"
   ]
  },
  {
   "cell_type": "code",
   "execution_count": 25,
   "metadata": {},
   "outputs": [
    {
     "data": {
      "text/plain": [
       "115"
      ]
     },
     "execution_count": 25,
     "metadata": {},
     "output_type": "execute_result"
    }
   ],
   "source": [
    "### Number of repeated onsets -----\n",
    "repeat_s[\"active_year_onset_drop\"].sum() - len(repeat_s)\n",
    "# sum all repeated onset repeat_s[\"active_year_onset_drop\"].sum() and subtract the length of observations with repeated onsets\n",
    "# to exclude the specific first onset, the result is 115 \n",
    "# 115 out of 336 onsets are repeated ones"
   ]
  },
  {
   "cell_type": "code",
   "execution_count": 26,
   "metadata": {},
   "outputs": [
    {
     "data": {
      "text/html": [
       "<div>\n",
       "<style scoped>\n",
       "    .dataframe tbody tr th:only-of-type {\n",
       "        vertical-align: middle;\n",
       "    }\n",
       "\n",
       "    .dataframe tbody tr th {\n",
       "        vertical-align: top;\n",
       "    }\n",
       "\n",
       "    .dataframe thead th {\n",
       "        text-align: right;\n",
       "    }\n",
       "</style>\n",
       "<table border=\"1\" class=\"dataframe\">\n",
       "  <thead>\n",
       "    <tr style=\"text-align: right;\">\n",
       "      <th></th>\n",
       "      <th>gov_qual</th>\n",
       "      <th>polity2</th>\n",
       "      <th>milper_in</th>\n",
       "      <th>milexp_in</th>\n",
       "    </tr>\n",
       "  </thead>\n",
       "  <tbody>\n",
       "    <tr>\n",
       "      <th>gov_qual</th>\n",
       "      <td>1.000000</td>\n",
       "      <td>0.563358</td>\n",
       "      <td>0.126267</td>\n",
       "      <td>0.251520</td>\n",
       "    </tr>\n",
       "    <tr>\n",
       "      <th>polity2</th>\n",
       "      <td>0.563358</td>\n",
       "      <td>1.000000</td>\n",
       "      <td>-0.234493</td>\n",
       "      <td>-0.044255</td>\n",
       "    </tr>\n",
       "    <tr>\n",
       "      <th>milper_in</th>\n",
       "      <td>0.126267</td>\n",
       "      <td>-0.234493</td>\n",
       "      <td>1.000000</td>\n",
       "      <td>0.609424</td>\n",
       "    </tr>\n",
       "    <tr>\n",
       "      <th>milexp_in</th>\n",
       "      <td>0.251520</td>\n",
       "      <td>-0.044255</td>\n",
       "      <td>0.609424</td>\n",
       "      <td>1.000000</td>\n",
       "    </tr>\n",
       "  </tbody>\n",
       "</table>\n",
       "</div>"
      ],
      "text/plain": [
       "           gov_qual   polity2  milper_in  milexp_in\n",
       "gov_qual   1.000000  0.563358   0.126267   0.251520\n",
       "polity2    0.563358  1.000000  -0.234493  -0.044255\n",
       "milper_in  0.126267 -0.234493   1.000000   0.609424\n",
       "milexp_in  0.251520 -0.044255   0.609424   1.000000"
      ]
     },
     "execution_count": 26,
     "metadata": {},
     "output_type": "execute_result"
    }
   ],
   "source": [
    "### Correlation between quality of government and polity score -----\n",
    "df_s[[\"gov_qual\", \"polity2\", \"milper_in\", \"milexp_in\"]].corr()"
   ]
  },
  {
   "cell_type": "code",
   "execution_count": 27,
   "metadata": {},
   "outputs": [
    {
     "data": {
      "image/png": "[encoded data removed]",
      "text/plain": [
       "<Figure size 936x576 with 1 Axes>"
      ]
     },
     "metadata": {
      "needs_background": "light"
     },
     "output_type": "display_data"
    }
   ],
   "source": [
    "### Plot proportion of onset variable (drop version) (yes/no) over time  ------\n",
    "\n",
    "# Prepare dataset, summarize active_year_onset_drop over time and differentiated by 0/1\n",
    "time_prop = pd.DataFrame(sorted(df_s.year.unique()))\n",
    "time_prop[\"active_no\"] = list(df_s.groupby('year')['active_year_onset_drop'].apply(lambda x: (x==0).sum()))\n",
    "time_prop[\"active_yes\"] = list(df_s.groupby('year')['active_year_onset_drop'].apply(lambda x: (x==1).sum()))\n",
    "time_prop.columns = [\"year\", \"active_no\", \"active_yes\"]\n",
    "\n",
    "# Plot results\n",
    "fig = plt.figure(figsize=(13, 8))\n",
    "ax = plt.axes()\n",
    "ax.plot(time_prop[\"year\"],time_prop[\"active_yes\"], label = \"Transition to Active Civil Conflict Yes\",  color=\"black\", linestyle=\"dotted\");    \n",
    "ax.plot(time_prop[\"year\"],time_prop[\"active_no\"], label = \"Transition to Active Civil Conflict  No\", color=\"black\", linestyle=\"solid\");\n",
    "ax.legend(prop={'size': 15}, loc= 'center right')\n",
    "ax.set_yticks(np.arange(10, 60, 5))\n",
    "ax.set(xlabel='Time (Years)', ylabel='Number of Rebel-Government Dyads', title=f'Number of Dyads Differentiated by Transition to Active Civil Conflict (Yes/No)')\n",
    "\n",
    "# Save plot\n",
    "fig.savefig(os.path.join(out_paths[\"desciptive_plots_outcome\"], f\"_all_sample_onset\"), dpi=100)"
   ]
  },
  {
   "cell_type": "code",
   "execution_count": 28,
   "metadata": {},
   "outputs": [
    {
     "data": {
      "image/png": "[encoded data removed]",
      "text/plain": [
       "<Figure size 864x576 with 1 Axes>"
      ]
     },
     "metadata": {
      "needs_background": "light"
     },
     "output_type": "display_data"
    }
   ],
   "source": [
    "### Plot proportion of active (yes/no) over time  ------\n",
    "\n",
    "# Prepare dataset, summarize active_year over time and differentiated by 0/1\n",
    "time_prop = pd.DataFrame(sorted(df.year.unique()))\n",
    "time_prop[\"active_no\"] = list(df.groupby('year')['active_year'].apply(lambda x: (x==0).sum()))\n",
    "time_prop[\"active_yes\"] = list(df.groupby('year')['active_year'].apply(lambda x: (x==1).sum()))\n",
    "time_prop.columns = [\"year\", \"active_no\", \"active_yes\"]\n",
    "\n",
    "# Plot results\n",
    "fig = plt.figure(figsize=(12, 8))\n",
    "ax = plt.axes()\n",
    "ax.plot(time_prop[\"year\"],time_prop[\"active_yes\"], label = \"Active Civil Conflict Yes\",  color=\"black\", linestyle=\"dotted\");    \n",
    "ax.plot(time_prop[\"year\"],time_prop[\"active_no\"], label = \"Active Civil Conflict No\", color=\"black\", linestyle=\"solid\");\n",
    "ax.legend(prop={'size': 15}, loc= 'upper right')\n",
    "ax.set(xlabel='Time (Years)', ylabel='Number of Government-Rebel Dyads', title=f'Number of Dyads Differentiated by Active Civil Conflict (Yes/No)') \n",
    "\n",
    "# Save plot\n",
    "fig.savefig(os.path.join(out_paths[\"desciptive_plots_outcome\"], f\"_all_sample\"), dpi=100)"
   ]
  },
  {
   "cell_type": "code",
   "execution_count": 29,
   "metadata": {},
   "outputs": [
    {
     "data": {
      "image/png": "[encoded data removed]",
      "text/plain": [
       "<Figure size 864x576 with 1 Axes>"
      ]
     },
     "metadata": {
      "needs_background": "light"
     },
     "output_type": "display_data"
    }
   ],
   "source": [
    "### Plot proportion of Civil War (yes/no) over time  ------\n",
    "\n",
    "# Subset data for active civil war yes and summarize over year\n",
    "out_war = df.loc[df['best']>=1000]\n",
    "out_war_col = out_war.groupby('year')['StateAbb'].agg({'count'})\n",
    "\n",
    "# Subset data for active civil war no and summarize over year\n",
    "out_no_war = df.loc[df['best']<1000]\n",
    "out_no_war_col = out_no_war.groupby('year')['StateAbb'].agg({'count'})\n",
    "\n",
    "# Save in data frame\n",
    "time_prop = pd.concat([out_war_col, out_no_war_col], axis=1)\n",
    "time_prop.reset_index(inplace=True)\n",
    "time_prop.columns = [ \"year\", \"sum_war\", \"sum_no_war\"]\n",
    "\n",
    "\n",
    "# Plot results\n",
    "fig = plt.figure(figsize=(12, 8))\n",
    "ax = plt.axes()\n",
    "ax.plot(time_prop[\"year\"],time_prop[\"sum_war\"], label = \"Active Civil War Yes\",  color=\"black\", linestyle=\"dotted\");   \n",
    "ax.plot(time_prop[\"year\"],time_prop[\"sum_no_war\"], label = \"Active Civil War No\", color=\"black\", linestyle=\"solid\");\n",
    "ax.set_ylim([0, 100])\n",
    "ax.set_yticks(np.arange(0, 100, 10))\n",
    "ax.legend(prop={'size': 15}, loc= 'center right')\n",
    "ax.set(xlabel='Time (Years)', ylabel='Number of Rebel-Government Dyads', title=f'Number of Dyads Differentiated by Active Civil War (Yes/No)') \n",
    "\n",
    "# Save plot\n",
    "fig.savefig(os.path.join(out_paths[\"desciptive_plots_outcome\"], f\"_civil_war_\"), dpi=100)"
   ]
  },
  {
   "cell_type": "code",
   "execution_count": 30,
   "metadata": {},
   "outputs": [
    {
     "data": {
      "image/png": "[encoded data removed]",
      "text/plain": [
       "<Figure size 864x576 with 1 Axes>"
      ]
     },
     "metadata": {
      "needs_background": "light"
     },
     "output_type": "display_data"
    }
   ],
   "source": [
    "### Plot a few selected dyads to show data structure -----\n",
    "fig = plt.figure(figsize=(12, 8))\n",
    "ax = plt.axes()\n",
    "\n",
    "# Select dyads\n",
    "ax.plot(df[\"year\"].loc[df[\"dyad_name\"]==\"Government of Morocco - POLISARIO\"],\n",
    "        df[\"best\"].loc[df[\"dyad_name\"]==\"Government of Morocco - POLISARIO\"], color=\"black\", linestyle=\"dashed\",\n",
    "        label = \"Government of Morocco - POLISARIO\");\n",
    "ax.plot(df[\"year\"].loc[df[\"dyad_name\"]==\"Government of Chad - FARF\"],\n",
    "        df[\"best\"].loc[df[\"dyad_name\"]==\"Government of Chad - FARF\"], color=\"black\", linestyle=\"solid\",\n",
    "        label = \"Government of Chad - FARF\");\n",
    "ax.plot(df[\"year\"].loc[df[\"dyad_name\"]==\"Government of India - PULF\"],\n",
    "        df[\"best\"].loc[df[\"dyad_name\"]==\"Government of India - PULF\"], color=\"black\", linestyle=':',\n",
    "        label = \"Government of India - PULF\");\n",
    "ax.plot(df[\"year\"].loc[df[\"dyad_name\"]==\"Government of Nigeria - NDPVF\"],\n",
    "        df[\"best\"].loc[df[\"dyad_name\"]==\"Government of Nigeria - NDPVF\"], color=\"black\", linestyle='-.',\n",
    "        label = \"Government of Nigeria - NDPVF\");\n",
    "\n",
    "ax.set(xlabel='Time (years)', ylabel='Number of Battle-Related Deaths (best)', title=f'Number of Battle-Related Deaths over Time') \n",
    "ax.legend(bbox_to_anchor=(1, 1), prop={'size': 15})\n",
    "\n",
    "# Save plot\n",
    "fig.savefig(os.path.join(out_paths[\"desciptive_plots_outcome\"], f\"_entry_exit\"), dpi=100)"
   ]
  },
  {
   "cell_type": "code",
   "execution_count": 31,
   "metadata": {},
   "outputs": [],
   "source": [
    "### Function to get summary table -----\n",
    "def summary_tab(df,\n",
    "               features):\n",
    "    # Divide dataset on the basis of the outcome \n",
    "    df_active = df.loc[df['active_year_onset_drop']==1]\n",
    "    df_not_active = df.loc[df['active_year_onset_drop']==0]\n",
    "    \n",
    "    # Make empty data table\n",
    "    sum_tab = pd.DataFrame(columns=[\"Feature\", \"Transition No\", \"Transition Yes\"])\n",
    "    \n",
    "    # For each variable get mean/median and append to empty dataset\n",
    "    for i in features:\n",
    "        feat_long=[]\n",
    "        feat_long.append(dict_feat_names[i]) # add fancy names\n",
    "        feat_long.append(str(round(df_not_active[i].mean(),3)))\n",
    "        feat_long.append(f\"({round(df_not_active[i].median(),3)})\")\n",
    "        feat_long.append(str(round(df_active[i].mean(), 3)))\n",
    "        feat_long.append(f\"({round(df_active[i].median(), 3)})\")\n",
    "\n",
    "        # Transpose data frame and join mean/median columns\n",
    "        feat_long = pd.DataFrame(feat_long).T\n",
    "        feat_long['mean_median_no'] = feat_long[[1, 2]].agg(' '.join, axis=1)\n",
    "        feat_long['mean_median_yes'] = feat_long[[3, 4]].agg(' '.join, axis=1)\n",
    "        \n",
    "        # Subset dataset and rename columns\n",
    "        feat_long_s = feat_long[[0, \"mean_median_no\", \"mean_median_yes\"]]\n",
    "        feat_long_s=feat_long_s.rename(columns={0: \"Feature\", \"mean_median_no\": \"Transition No\", \"mean_median_yes\": \"Transition Yes\"})\n",
    "        \n",
    "        # merge with base dataset\n",
    "        sum_tab = pd.concat([sum_tab, feat_long_s], axis=0)\n",
    "        \n",
    "    return sum_tab"
   ]
  },
  {
   "cell_type": "code",
   "execution_count": 32,
   "metadata": {},
   "outputs": [
    {
     "data": {
      "text/html": [
       "<div>\n",
       "<style scoped>\n",
       "    .dataframe tbody tr th:only-of-type {\n",
       "        vertical-align: middle;\n",
       "    }\n",
       "\n",
       "    .dataframe tbody tr th {\n",
       "        vertical-align: top;\n",
       "    }\n",
       "\n",
       "    .dataframe thead th {\n",
       "        text-align: right;\n",
       "    }\n",
       "</style>\n",
       "<table border=\"1\" class=\"dataframe\">\n",
       "  <thead>\n",
       "    <tr style=\"text-align: right;\">\n",
       "      <th></th>\n",
       "      <th>Feature</th>\n",
       "      <th>Transition No</th>\n",
       "      <th>Transition Yes</th>\n",
       "    </tr>\n",
       "  </thead>\n",
       "  <tbody>\n",
       "    <tr>\n",
       "      <th>0</th>\n",
       "      <td>Quality of Government</td>\n",
       "      <td>0.485 (0.451)</td>\n",
       "      <td>0.414 (0.405)</td>\n",
       "    </tr>\n",
       "    <tr>\n",
       "      <th>0</th>\n",
       "      <td>Military Expenditure Index</td>\n",
       "      <td>1.817 (1.78)</td>\n",
       "      <td>1.797 (1.777)</td>\n",
       "    </tr>\n",
       "    <tr>\n",
       "      <th>0</th>\n",
       "      <td>Military Personnel Index</td>\n",
       "      <td>1.116 (1.04)</td>\n",
       "      <td>1.117 (1.119)</td>\n",
       "    </tr>\n",
       "    <tr>\n",
       "      <th>0</th>\n",
       "      <td>Combined Polity Score</td>\n",
       "      <td>1.645 (3.0)</td>\n",
       "      <td>0.17 (0.0)</td>\n",
       "    </tr>\n",
       "    <tr>\n",
       "      <th>0</th>\n",
       "      <td>Location of Rebel Group Formation to Capital</td>\n",
       "      <td>3.787 (3.0)</td>\n",
       "      <td>3.672 (3.0)</td>\n",
       "    </tr>\n",
       "    <tr>\n",
       "      <th>0</th>\n",
       "      <td>Forest Coverage</td>\n",
       "      <td>28.8 (23.25)</td>\n",
       "      <td>26.492 (22.958)</td>\n",
       "    </tr>\n",
       "    <tr>\n",
       "      <th>0</th>\n",
       "      <td>Rural Population</td>\n",
       "      <td>55.099 (63.924)</td>\n",
       "      <td>60.11 (65.816)</td>\n",
       "    </tr>\n",
       "    <tr>\n",
       "      <th>0</th>\n",
       "      <td>Terrain Ruggedness</td>\n",
       "      <td>151.771 (167.3)</td>\n",
       "      <td>137.105 (101.3)</td>\n",
       "    </tr>\n",
       "    <tr>\n",
       "      <th>0</th>\n",
       "      <td>Age of Rebel Group Since Formation</td>\n",
       "      <td>19.648 (17.0)</td>\n",
       "      <td>11.016 (7.0)</td>\n",
       "    </tr>\n",
       "    <tr>\n",
       "      <th>0</th>\n",
       "      <td>Intensity of Goals</td>\n",
       "      <td>1.402 (1.0)</td>\n",
       "      <td>1.443 (1.0)</td>\n",
       "    </tr>\n",
       "    <tr>\n",
       "      <th>0</th>\n",
       "      <td>Intensity of Ideology</td>\n",
       "      <td>1.187 (1.0)</td>\n",
       "      <td>0.948 (1.0)</td>\n",
       "    </tr>\n",
       "    <tr>\n",
       "      <th>0</th>\n",
       "      <td>Ethnicity  (Identity)</td>\n",
       "      <td>0.678 (1.0)</td>\n",
       "      <td>0.552 (1.0)</td>\n",
       "    </tr>\n",
       "    <tr>\n",
       "      <th>0</th>\n",
       "      <td>Splinter Non-State (Pre-existing Organization)</td>\n",
       "      <td>0.599 (1.0)</td>\n",
       "      <td>0.596 (1.0)</td>\n",
       "    </tr>\n",
       "    <tr>\n",
       "      <th>0</th>\n",
       "      <td>Splinter State (Pre-existing Organization)</td>\n",
       "      <td>0.069 (0.0)</td>\n",
       "      <td>0.142 (0.0)</td>\n",
       "    </tr>\n",
       "    <tr>\n",
       "      <th>0</th>\n",
       "      <td>Civil Society (Pre-existing Organization)</td>\n",
       "      <td>0.269 (0.0)</td>\n",
       "      <td>0.298 (0.0)</td>\n",
       "    </tr>\n",
       "    <tr>\n",
       "      <th>0</th>\n",
       "      <td>Merger (Pre-existing Organization)</td>\n",
       "      <td>0.23 (0.0)</td>\n",
       "      <td>0.306 (0.0)</td>\n",
       "    </tr>\n",
       "    <tr>\n",
       "      <th>0</th>\n",
       "      <td>Internet Usage</td>\n",
       "      <td>5.75 (0.93)</td>\n",
       "      <td>3.113 (0.498)</td>\n",
       "    </tr>\n",
       "    <tr>\n",
       "      <th>0</th>\n",
       "      <td>Oil Rents</td>\n",
       "      <td>5.694 (0.891)</td>\n",
       "      <td>6.839 (0.904)</td>\n",
       "    </tr>\n",
       "  </tbody>\n",
       "</table>\n",
       "</div>"
      ],
      "text/plain": [
       "                                          Feature    Transition No  \\\n",
       "0                           Quality of Government    0.485 (0.451)   \n",
       "0                      Military Expenditure Index     1.817 (1.78)   \n",
       "0                        Military Personnel Index     1.116 (1.04)   \n",
       "0                           Combined Polity Score      1.645 (3.0)   \n",
       "0    Location of Rebel Group Formation to Capital      3.787 (3.0)   \n",
       "0                                Forest Coverage      28.8 (23.25)   \n",
       "0                               Rural Population   55.099 (63.924)   \n",
       "0                              Terrain Ruggedness  151.771 (167.3)   \n",
       "0              Age of Rebel Group Since Formation    19.648 (17.0)   \n",
       "0                              Intensity of Goals      1.402 (1.0)   \n",
       "0                           Intensity of Ideology      1.187 (1.0)   \n",
       "0                           Ethnicity  (Identity)      0.678 (1.0)   \n",
       "0  Splinter Non-State (Pre-existing Organization)      0.599 (1.0)   \n",
       "0      Splinter State (Pre-existing Organization)      0.069 (0.0)   \n",
       "0       Civil Society (Pre-existing Organization)      0.269 (0.0)   \n",
       "0              Merger (Pre-existing Organization)       0.23 (0.0)   \n",
       "0                                  Internet Usage      5.75 (0.93)   \n",
       "0                                       Oil Rents    5.694 (0.891)   \n",
       "\n",
       "    Transition Yes  \n",
       "0    0.414 (0.405)  \n",
       "0    1.797 (1.777)  \n",
       "0    1.117 (1.119)  \n",
       "0       0.17 (0.0)  \n",
       "0      3.672 (3.0)  \n",
       "0  26.492 (22.958)  \n",
       "0   60.11 (65.816)  \n",
       "0  137.105 (101.3)  \n",
       "0     11.016 (7.0)  \n",
       "0      1.443 (1.0)  \n",
       "0      0.948 (1.0)  \n",
       "0      0.552 (1.0)  \n",
       "0      0.596 (1.0)  \n",
       "0      0.142 (0.0)  \n",
       "0      0.298 (0.0)  \n",
       "0      0.306 (0.0)  \n",
       "0    3.113 (0.498)  \n",
       "0    6.839 (0.904)  "
      ]
     },
     "execution_count": 32,
     "metadata": {},
     "output_type": "execute_result"
    }
   ],
   "source": [
    "### Get summary table for involved variables ---\n",
    "pd.options.display.float_format = '{:.3f}'.format   \n",
    "\n",
    "sum_tab= summary_tab(df=df_s,\n",
    "    features= feat_state_capacity + feat_rebel_visibility +  [\"goal_total\",\n",
    "    \"ideo_total\",\n",
    "    \"ident_ethnicity\",\n",
    "    \"parent_splinter_nonstate\",\n",
    "    \"parent_splinter_state\",\n",
    "    \"parent_civil_society\",\n",
    "    \"parent_merger\",\n",
    "    \"internet_use\",\n",
    "    \"oil\",])\n",
    "                                                                     \n",
    "# Save table \n",
    "sum_tab.to_latex(os.path.join(out_paths[\"desciptive_tables_outcome\"], f\"_sum_tab.tex\"), index=False)\n",
    "sum_tab"
   ]
  },
  {
   "cell_type": "code",
   "execution_count": 33,
   "metadata": {},
   "outputs": [
    {
     "name": "stdout",
     "output_type": "stream",
     "text": [
      "1.4426229508196722\n",
      "1.4016064257028114\n",
      "1.0\n",
      "1.0\n"
     ]
    }
   ],
   "source": [
    "### Check manually ----\n",
    "print(df_s[\"goal_total\"].loc[df_s['active_year_onset_drop']==1].mean())\n",
    "print(df_s[\"goal_total\"].loc[df_s['active_year_onset_drop']==0].mean())\n",
    "print(df_s[\"goal_total\"].loc[df_s['active_year_onset_drop']==1].median())\n",
    "print(df_s[\"goal_total\"].loc[df_s['active_year_onset_drop']==0].median())"
   ]
  },
  {
   "cell_type": "code",
   "execution_count": 34,
   "metadata": {},
   "outputs": [
    {
     "name": "stdout",
     "output_type": "stream",
     "text": [
      "996\n",
      "1069\n"
     ]
    }
   ],
   "source": [
    "### Value frequency (complete dataset) -----\n",
    "print(df[df.active_year == 0].shape[0]) # \n",
    "print(df[df.active_year == 1].shape[0]) #"
   ]
  },
  {
   "cell_type": "code",
   "execution_count": 35,
   "metadata": {},
   "outputs": [
    {
     "name": "stdout",
     "output_type": "stream",
     "text": [
      "1699\n",
      "366\n"
     ]
    }
   ],
   "source": [
    "### Value frequency (complete dataset) -----\n",
    "print(df[df.active_year_onset == 0].shape[0]) # \n",
    "print(df[df.active_year_onset == 1].shape[0]) #"
   ]
  },
  {
   "cell_type": "code",
   "execution_count": 36,
   "metadata": {},
   "outputs": [
    {
     "name": "stdout",
     "output_type": "stream",
     "text": [
      "996\n",
      "366\n",
      "703\n"
     ]
    }
   ],
   "source": [
    "### Value frequency (truncated version based on conflict onset variable) -----\n",
    "print(df[df.active_year_onset_drop == 0].shape[0]) # \n",
    "print(df[df.active_year_onset_drop == 1].shape[0]) #\n",
    "print(df[df.active_year_onset_drop == -99].shape[0]) #"
   ]
  },
  {
   "cell_type": "code",
   "execution_count": 37,
   "metadata": {},
   "outputs": [
    {
     "name": "stdout",
     "output_type": "stream",
     "text": [
      "996\n",
      "366\n"
     ]
    }
   ],
   "source": [
    "### Value frequency (truncated version based on conflict onset variable) -----\n",
    "print(df_s[df_s.active_year_onset_drop == 0].shape[0]) # \n",
    "print(df_s[df_s.active_year_onset_drop == 1].shape[0]) #"
   ]
  },
  {
   "cell_type": "code",
   "execution_count": 38,
   "metadata": {},
   "outputs": [
    {
     "name": "stdout",
     "output_type": "stream",
     "text": [
      "0.055555556\n",
      "0.94444442\n",
      "0.45580189544584354\n",
      "0.42129629999999996\n"
     ]
    }
   ],
   "source": [
    "### Summary statistics (complete dataset) -----\n",
    "print(df[\"gov_qual\"].min())\n",
    "print(df[\"gov_qual\"].max())\n",
    "print(df[\"gov_qual\"].mean())\n",
    "print(df[\"gov_qual\"].median())"
   ]
  },
  {
   "cell_type": "code",
   "execution_count": 39,
   "metadata": {},
   "outputs": [
    {
     "name": "stdout",
     "output_type": "stream",
     "text": [
      "0.055555556\n",
      "0.94444442\n",
      "0.46618091360345154\n",
      "0.43055555\n"
     ]
    }
   ],
   "source": [
    "### Summary statistics (truncated version based on conflict onset variable) -----\n",
    "print(df_s[\"gov_qual\"].min())\n",
    "print(df_s[\"gov_qual\"].max())\n",
    "print(df_s[\"gov_qual\"].mean())\n",
    "print(df_s[\"gov_qual\"].median())"
   ]
  },
  {
   "cell_type": "code",
   "execution_count": 40,
   "metadata": {},
   "outputs": [
    {
     "data": {
      "text/plain": [
       "<matplotlib.axes._subplots.AxesSubplot at 0x1980207a828>"
      ]
     },
     "execution_count": 40,
     "metadata": {},
     "output_type": "execute_result"
    },
    {
     "data": {
      "image/png": "[encoded data removed]",
      "text/plain": [
       "<Figure size 432x288 with 1 Axes>"
      ]
     },
     "metadata": {
      "needs_background": "light"
     },
     "output_type": "display_data"
    }
   ],
   "source": [
    "### Plot distribution ----\n",
    "df_s[\"gov_qual\"].hist()"
   ]
  },
  {
   "cell_type": "code",
   "execution_count": 41,
   "metadata": {},
   "outputs": [
    {
     "name": "stdout",
     "output_type": "stream",
     "text": [
      "0.0\n",
      "5.48\n",
      "1.8117475391888331\n",
      "1.79\n"
     ]
    }
   ],
   "source": [
    "### Summary statistics (complete dataset) -----\n",
    "print(df[\"milexp_in\"].min())\n",
    "print(df[\"milexp_in\"].max())\n",
    "print(df[\"milexp_in\"].mean())\n",
    "print(df[\"milexp_in\"].median())"
   ]
  },
  {
   "cell_type": "code",
   "execution_count": 42,
   "metadata": {},
   "outputs": [
    {
     "name": "stdout",
     "output_type": "stream",
     "text": [
      "0.0\n",
      "5.48\n",
      "1.8116859983762512\n",
      "1.78\n"
     ]
    }
   ],
   "source": [
    "### Summary statistics (truncated version based on conflict onset variable) -----\n",
    "print(df_s[\"milexp_in\"].min())\n",
    "print(df_s[\"milexp_in\"].max())\n",
    "print(df_s[\"milexp_in\"].mean())\n",
    "print(df_s[\"milexp_in\"].median())"
   ]
  },
  {
   "cell_type": "code",
   "execution_count": 43,
   "metadata": {},
   "outputs": [
    {
     "data": {
      "text/plain": [
       "<matplotlib.axes._subplots.AxesSubplot at 0x19801fa5780>"
      ]
     },
     "execution_count": 43,
     "metadata": {},
     "output_type": "execute_result"
    },
    {
     "data": {
      "image/png": "[encoded data removed]",
      "text/plain": [
       "<Figure size 432x288 with 1 Axes>"
      ]
     },
     "metadata": {
      "needs_background": "light"
     },
     "output_type": "display_data"
    }
   ],
   "source": [
    "### Plot distribution ----\n",
    "df_s[\"milexp_in\"].hist()"
   ]
  },
  {
   "cell_type": "code",
   "execution_count": 44,
   "metadata": {},
   "outputs": [
    {
     "name": "stdout",
     "output_type": "stream",
     "text": [
      "0.0\n",
      "6.3800000999999975\n",
      "1.1159100018514274\n",
      "1.0951060117985734\n"
     ]
    }
   ],
   "source": [
    "### Summary statistics (complete dataset) -----\n",
    "print(df[\"milper_in\"].min())\n",
    "print(df[\"milper_in\"].max())\n",
    "print(df[\"milper_in\"].mean())\n",
    "print(df[\"milper_in\"].median())"
   ]
  },
  {
   "cell_type": "code",
   "execution_count": 45,
   "metadata": {},
   "outputs": [
    {
     "name": "stdout",
     "output_type": "stream",
     "text": [
      "0.0\n",
      "6.3800000999999975\n",
      "1.1160405734608738\n",
      "1.0700001000000001\n"
     ]
    }
   ],
   "source": [
    "### Summary statistics (truncated version based on conflict onset variable) -----\n",
    "print(df_s[\"milper_in\"].min())\n",
    "print(df_s[\"milper_in\"].max())\n",
    "print(df_s[\"milper_in\"].mean())\n",
    "print(df_s[\"milper_in\"].median())"
   ]
  },
  {
   "cell_type": "code",
   "execution_count": 46,
   "metadata": {},
   "outputs": [
    {
     "data": {
      "text/plain": [
       "<matplotlib.axes._subplots.AxesSubplot at 0x19801fd5a20>"
      ]
     },
     "execution_count": 46,
     "metadata": {},
     "output_type": "execute_result"
    },
    {
     "data": {
      "image/png": "[encoded data removed]",
      "text/plain": [
       "<Figure size 432x288 with 1 Axes>"
      ]
     },
     "metadata": {
      "needs_background": "light"
     },
     "output_type": "display_data"
    }
   ],
   "source": [
    "### Plot distribution ----\n",
    "df_s[\"milper_in\"].hist()"
   ]
  },
  {
   "cell_type": "code",
   "execution_count": 47,
   "metadata": {},
   "outputs": [
    {
     "name": "stdout",
     "output_type": "stream",
     "text": [
      "-9.0\n",
      "10.0\n",
      "1.3030318573929602\n",
      "1.0\n"
     ]
    }
   ],
   "source": [
    "### Summary statistics (complete dataset) -----\n",
    "print(df[\"polity2\"].min())\n",
    "print(df[\"polity2\"].max())\n",
    "print(df[\"polity2\"].mean())\n",
    "print(df[\"polity2\"].median())"
   ]
  },
  {
   "cell_type": "code",
   "execution_count": 48,
   "metadata": {},
   "outputs": [
    {
     "name": "stdout",
     "output_type": "stream",
     "text": [
      "-9.0\n",
      "10.0\n",
      "1.2484211972121848\n",
      "1.0\n"
     ]
    }
   ],
   "source": [
    "### Summary statistics (truncated version based on conflict onset variable) -----\n",
    "print(df_s[\"polity2\"].min())\n",
    "print(df_s[\"polity2\"].max())\n",
    "print(df_s[\"polity2\"].mean())\n",
    "print(df_s[\"polity2\"].median())"
   ]
  },
  {
   "cell_type": "code",
   "execution_count": 49,
   "metadata": {},
   "outputs": [
    {
     "data": {
      "text/plain": [
       "<matplotlib.axes._subplots.AxesSubplot at 0x19801f009e8>"
      ]
     },
     "execution_count": 49,
     "metadata": {},
     "output_type": "execute_result"
    },
    {
     "data": {
      "image/png": "[encoded data removed]",
      "text/plain": [
       "<Figure size 432x288 with 1 Axes>"
      ]
     },
     "metadata": {
      "needs_background": "light"
     },
     "output_type": "display_data"
    }
   ],
   "source": [
    "### Plot distribution ----\n",
    "df_s[\"polity2\"].hist()"
   ]
  },
  {
   "cell_type": "code",
   "execution_count": 50,
   "metadata": {},
   "outputs": [
    {
     "name": "stdout",
     "output_type": "stream",
     "text": [
      "163\n",
      "493\n",
      "760\n",
      "92\n",
      "76\n",
      "223\n",
      "51\n",
      "207\n"
     ]
    }
   ],
   "source": [
    "### Value frequency (complete dataset) -----\n",
    "print(df[df.foundloc_cat_cat == 1].shape[0]) # \n",
    "print(df[df.foundloc_cat_cat == 2].shape[0]) # \n",
    "print(df[df.foundloc_cat_cat == 3].shape[0]) # \n",
    "print(df[df.foundloc_cat_cat == 4].shape[0]) # \n",
    "print(df[df.foundloc_cat_cat == 5].shape[0]) # \n",
    "print(df[df.foundloc_cat_cat == 6].shape[0]) # \n",
    "print(df[df.foundloc_cat_cat == 7].shape[0]) # \n",
    "print(df[df.foundloc_cat_cat == 8].shape[0]) # "
   ]
  },
  {
   "cell_type": "code",
   "execution_count": 51,
   "metadata": {},
   "outputs": [
    {
     "name": "stdout",
     "output_type": "stream",
     "text": [
      "111\n",
      "315\n",
      "486\n",
      "54\n",
      "49\n",
      "144\n",
      "32\n",
      "171\n"
     ]
    }
   ],
   "source": [
    "### Value frequency (truncated version based on conflict onset variable)  -----\n",
    "print(df_s[df_s.foundloc_cat_cat == 1].shape[0]) # \n",
    "print(df_s[df_s.foundloc_cat_cat == 2].shape[0]) # \n",
    "print(df_s[df_s.foundloc_cat_cat == 3].shape[0]) # \n",
    "print(df_s[df_s.foundloc_cat_cat == 4].shape[0]) # \n",
    "print(df_s[df_s.foundloc_cat_cat == 5].shape[0]) # \n",
    "print(df_s[df_s.foundloc_cat_cat == 6].shape[0]) # \n",
    "print(df_s[df_s.foundloc_cat_cat == 7].shape[0]) # \n",
    "print(df_s[df_s.foundloc_cat_cat == 8].shape[0]) # "
   ]
  },
  {
   "cell_type": "code",
   "execution_count": 52,
   "metadata": {},
   "outputs": [
    {
     "data": {
      "text/plain": [
       "<matplotlib.axes._subplots.AxesSubplot at 0x19802187e80>"
      ]
     },
     "execution_count": 52,
     "metadata": {},
     "output_type": "execute_result"
    },
    {
     "data": {
      "image/png": "[encoded data removed]",
      "text/plain": [
       "<Figure size 432x288 with 1 Axes>"
      ]
     },
     "metadata": {
      "needs_background": "light"
     },
     "output_type": "display_data"
    }
   ],
   "source": [
    "### Plot distribution ----\n",
    "df_s[\"foundloc_cat_cat\"].hist() "
   ]
  },
  {
   "cell_type": "code",
   "execution_count": 53,
   "metadata": {},
   "outputs": [
    {
     "name": "stdout",
     "output_type": "stream",
     "text": [
      "-14.0\n",
      "66.0\n",
      "17.076513317191285\n",
      "14.0\n"
     ]
    }
   ],
   "source": [
    "### Summary statistics (complete dataset) -----\n",
    "print(df[\"age_formation\"].min())\n",
    "print(df[\"age_formation\"].max())\n",
    "print(df[\"age_formation\"].mean())\n",
    "print(df[\"age_formation\"].median())"
   ]
  },
  {
   "cell_type": "code",
   "execution_count": 54,
   "metadata": {},
   "outputs": [
    {
     "name": "stdout",
     "output_type": "stream",
     "text": [
      "-14.0\n",
      "66.0\n",
      "17.32819383259912\n",
      "14.0\n"
     ]
    }
   ],
   "source": [
    "### Summary statistics (truncated version based on conflict onset variable) -----\n",
    "print(df_s[\"age_formation\"].min())\n",
    "print(df_s[\"age_formation\"].max())\n",
    "print(df_s[\"age_formation\"].mean())\n",
    "print(df_s[\"age_formation\"].median())"
   ]
  },
  {
   "cell_type": "code",
   "execution_count": 55,
   "metadata": {},
   "outputs": [
    {
     "data": {
      "text/plain": [
       "<matplotlib.axes._subplots.AxesSubplot at 0x198025e17b8>"
      ]
     },
     "execution_count": 55,
     "metadata": {},
     "output_type": "execute_result"
    },
    {
     "data": {
      "image/png": "[encoded data removed]",
      "text/plain": [
       "<Figure size 432x288 with 1 Axes>"
      ]
     },
     "metadata": {
      "needs_background": "light"
     },
     "output_type": "display_data"
    }
   ],
   "source": [
    "### Plot distribution ----\n",
    "df_s[\"age_formation\"].hist() \n",
    "# negative values make sense since \"Year of rebel group’s formation\" is differently defined in FORGE data as in the analysis of the thesis\n",
    "# the official \"formation\" could come later than \"violence leading to at least one fatality\"\n",
    "# values which are negative could be re-coded as 0 to align FORGE conceptualization with the theoretical framework of the thesis\n",
    "# however, there are so few observations that it does not appear necessary"
   ]
  },
  {
   "cell_type": "code",
   "execution_count": 56,
   "metadata": {},
   "outputs": [
    {
     "name": "stdout",
     "output_type": "stream",
     "text": [
      "11.5\n",
      "620.2\n",
      "145.14479418886012\n",
      "134.7\n"
     ]
    }
   ],
   "source": [
    "### Summary statistics (complete dataset)  -----\n",
    "print(df[\"terrain\"].min())\n",
    "print(df[\"terrain\"].max())\n",
    "print(df[\"terrain\"].mean())\n",
    "print(df[\"terrain\"].median())"
   ]
  },
  {
   "cell_type": "code",
   "execution_count": 57,
   "metadata": {},
   "outputs": [
    {
     "name": "stdout",
     "output_type": "stream",
     "text": [
      "11.5\n",
      "620.2\n",
      "147.82995594713614\n",
      "157.0\n"
     ]
    }
   ],
   "source": [
    "### Summary statistics (truncated version based on conflict onset variable) -----\n",
    "print(df_s[\"terrain\"].min())\n",
    "print(df_s[\"terrain\"].max())\n",
    "print(df_s[\"terrain\"].mean())\n",
    "print(df_s[\"terrain\"].median())"
   ]
  },
  {
   "cell_type": "code",
   "execution_count": 58,
   "metadata": {},
   "outputs": [
    {
     "data": {
      "text/plain": [
       "<matplotlib.axes._subplots.AxesSubplot at 0x1980264ed30>"
      ]
     },
     "execution_count": 58,
     "metadata": {},
     "output_type": "execute_result"
    },
    {
     "data": {
      "image/png": "[encoded data removed]",
      "text/plain": [
       "<Figure size 432x288 with 1 Axes>"
      ]
     },
     "metadata": {
      "needs_background": "light"
     },
     "output_type": "display_data"
    }
   ],
   "source": [
    "### Plot distribution ----\n",
    "df_s[\"terrain\"].hist()  "
   ]
  },
  {
   "cell_type": "code",
   "execution_count": 59,
   "metadata": {},
   "outputs": [
    {
     "name": "stdout",
     "output_type": "stream",
     "text": [
      "0.0440102466221307\n",
      "88.5095514950166\n",
      "27.834394729005215\n",
      "23.1179305728864\n"
     ]
    }
   ],
   "source": [
    "### Summary statistics (complete dataset)  -----\n",
    "print(df[\"forest_cov\"].min())\n",
    "print(df[\"forest_cov\"].max())\n",
    "print(df[\"forest_cov\"].mean())\n",
    "print(df[\"forest_cov\"].median())"
   ]
  },
  {
   "cell_type": "code",
   "execution_count": 60,
   "metadata": {},
   "outputs": [
    {
     "name": "stdout",
     "output_type": "stream",
     "text": [
      "0.0440102466221307\n",
      "88.5095514950166\n",
      "28.179633661750206\n",
      "23.214039466028098\n"
     ]
    }
   ],
   "source": [
    "### Summary statistics (truncated version based on conflict onset variable) -----\n",
    "print(df_s[\"forest_cov\"].min())\n",
    "print(df_s[\"forest_cov\"].max())\n",
    "print(df_s[\"forest_cov\"].mean())\n",
    "print(df_s[\"forest_cov\"].median())"
   ]
  },
  {
   "cell_type": "code",
   "execution_count": 61,
   "metadata": {},
   "outputs": [
    {
     "data": {
      "text/plain": [
       "<matplotlib.axes._subplots.AxesSubplot at 0x198026baef0>"
      ]
     },
     "execution_count": 61,
     "metadata": {},
     "output_type": "execute_result"
    },
    {
     "data": {
      "image/png": "[encoded data removed]",
      "text/plain": [
       "<Figure size 432x288 with 1 Axes>"
      ]
     },
     "metadata": {
      "needs_background": "light"
     },
     "output_type": "display_data"
    }
   ],
   "source": [
    "### Plot distribution ----\n",
    "df_s[\"forest_cov\"].hist()  "
   ]
  },
  {
   "cell_type": "code",
   "execution_count": 62,
   "metadata": {},
   "outputs": [
    {
     "name": "stdout",
     "output_type": "stream",
     "text": [
      "0.0\n",
      "1.0\n",
      "0.5980629539951574\n",
      "1.0\n",
      "830\n",
      "1235\n"
     ]
    }
   ],
   "source": [
    "### Value frequency (complete dataset) -----\n",
    "print(df[\"parent_splinter_nonstate\"].min())\n",
    "print(df[\"parent_splinter_nonstate\"].max())\n",
    "print(df[\"parent_splinter_nonstate\"].mean())\n",
    "print(df[\"parent_splinter_nonstate\"].median())\n",
    "print(df[df.parent_splinter_nonstate == 0].shape[0]) # \n",
    "print(df[df.parent_splinter_nonstate == 1].shape[0]) #"
   ]
  },
  {
   "cell_type": "code",
   "execution_count": 63,
   "metadata": {},
   "outputs": [
    {
     "name": "stdout",
     "output_type": "stream",
     "text": [
      "0.0\n",
      "1.0\n",
      "0.5983847283406755\n",
      "1.0\n",
      "547\n",
      "815\n"
     ]
    }
   ],
   "source": [
    "### Value frequency (truncated version based on conflict onset variable) -----\n",
    "print(df_s[\"parent_splinter_nonstate\"].min())\n",
    "print(df_s[\"parent_splinter_nonstate\"].max())\n",
    "print(df_s[\"parent_splinter_nonstate\"].mean())\n",
    "print(df_s[\"parent_splinter_nonstate\"].median())\n",
    "print(df_s[df_s.parent_splinter_nonstate == 0].shape[0]) # \n",
    "print(df_s[df_s.parent_splinter_nonstate == 1].shape[0]) #"
   ]
  },
  {
   "cell_type": "code",
   "execution_count": 64,
   "metadata": {},
   "outputs": [
    {
     "name": "stdout",
     "output_type": "stream",
     "text": [
      "0.0\n",
      "1.0\n",
      "0.0891041162227603\n",
      "0.0\n",
      "1881\n",
      "184\n"
     ]
    }
   ],
   "source": [
    "### Value frequency (complete dataset) -----\n",
    "print(df[\"parent_splinter_state\"].min())\n",
    "print(df[\"parent_splinter_state\"].max())\n",
    "print(df[\"parent_splinter_state\"].mean())\n",
    "print(df[\"parent_splinter_state\"].median())\n",
    "print(df[df.parent_splinter_state == 0].shape[0]) # \n",
    "print(df[df.parent_splinter_state == 1].shape[0]) #"
   ]
  },
  {
   "cell_type": "code",
   "execution_count": 65,
   "metadata": {},
   "outputs": [
    {
     "name": "stdout",
     "output_type": "stream",
     "text": [
      "0.0\n",
      "1.0\n",
      "0.08883994126284875\n",
      "0.0\n",
      "1241\n",
      "121\n"
     ]
    }
   ],
   "source": [
    "### Value frequency (truncated version based on conflict onset variable) -----\n",
    "print(df_s[\"parent_splinter_state\"].min())\n",
    "print(df_s[\"parent_splinter_state\"].max())\n",
    "print(df_s[\"parent_splinter_state\"].mean())\n",
    "print(df_s[\"parent_splinter_state\"].median())\n",
    "print(df_s[df_s.parent_splinter_state == 0].shape[0]) # \n",
    "print(df_s[df_s.parent_splinter_state == 1].shape[0]) #"
   ]
  },
  {
   "cell_type": "code",
   "execution_count": 66,
   "metadata": {},
   "outputs": [
    {
     "name": "stdout",
     "output_type": "stream",
     "text": [
      "0.0\n",
      "1.0\n",
      "0.3215496368038741\n",
      "0.0\n",
      "1401\n",
      "664\n"
     ]
    }
   ],
   "source": [
    "### Value frequency (complete dataset) -----\n",
    "print(df[\"parent_civil_society\"].min())\n",
    "print(df[\"parent_civil_society\"].max())\n",
    "print(df[\"parent_civil_society\"].mean())\n",
    "print(df[\"parent_civil_society\"].median())\n",
    "print(df[df.parent_civil_society == 0].shape[0]) # \n",
    "print(df[df.parent_civil_society == 1].shape[0]) #"
   ]
  },
  {
   "cell_type": "code",
   "execution_count": 67,
   "metadata": {},
   "outputs": [
    {
     "name": "stdout",
     "output_type": "stream",
     "text": [
      "0.0\n",
      "1.0\n",
      "0.276798825256975\n",
      "0.0\n",
      "985\n",
      "377\n"
     ]
    }
   ],
   "source": [
    "### Value frequency (truncated version based on conflict onset variable) -----\n",
    "print(df_s[\"parent_civil_society\"].min())\n",
    "print(df_s[\"parent_civil_society\"].max())\n",
    "print(df_s[\"parent_civil_society\"].mean())\n",
    "print(df_s[\"parent_civil_society\"].median())\n",
    "print(df_s[df_s.parent_civil_society == 0].shape[0]) # \n",
    "print(df_s[df_s.parent_civil_society == 1].shape[0]) #"
   ]
  },
  {
   "cell_type": "code",
   "execution_count": 68,
   "metadata": {},
   "outputs": [
    {
     "name": "stdout",
     "output_type": "stream",
     "text": [
      "0.0\n",
      "1.0\n",
      "0.26634382566585957\n",
      "0.0\n",
      "1515\n",
      "550\n"
     ]
    }
   ],
   "source": [
    "### Value frequency (complete dataset) -----\n",
    "print(df[\"parent_merger\"].min())\n",
    "print(df[\"parent_merger\"].max())\n",
    "print(df[\"parent_merger\"].mean())\n",
    "print(df[\"parent_merger\"].median())\n",
    "print(df[df.parent_merger == 0].shape[0]) # \n",
    "print(df[df.parent_merger == 1].shape[0]) #"
   ]
  },
  {
   "cell_type": "code",
   "execution_count": 69,
   "metadata": {},
   "outputs": [
    {
     "name": "stdout",
     "output_type": "stream",
     "text": [
      "0.0\n",
      "1.0\n",
      "0.25036710719530103\n",
      "0.0\n",
      "1021\n",
      "341\n"
     ]
    }
   ],
   "source": [
    "### Value frequency (truncated version based on conflict onset variable) -----\n",
    "print(df_s[\"parent_merger\"].min())\n",
    "print(df_s[\"parent_merger\"].max())\n",
    "print(df_s[\"parent_merger\"].mean())\n",
    "print(df_s[\"parent_merger\"].median())\n",
    "print(df_s[df_s.parent_merger == 0].shape[0]) # \n",
    "print(df_s[df_s.parent_merger == 1].shape[0]) #"
   ]
  },
  {
   "cell_type": "code",
   "execution_count": 70,
   "metadata": {},
   "outputs": [
    {
     "name": "stdout",
     "output_type": "stream",
     "text": [
      "0.0\n",
      "1.0\n",
      "0.6077481840193705\n",
      "1.0\n",
      "810\n",
      "1255\n"
     ]
    }
   ],
   "source": [
    "### Value frequency (complete dataset) -----\n",
    "print(df[\"ident_ethnicity\"].min())\n",
    "print(df[\"ident_ethnicity\"].max())\n",
    "print(df[\"ident_ethnicity\"].mean())\n",
    "print(df[\"ident_ethnicity\"].median())\n",
    "print(df[df.ident_ethnicity == 0].shape[0]) # \n",
    "print(df[df.ident_ethnicity == 1].shape[0]) #"
   ]
  },
  {
   "cell_type": "code",
   "execution_count": 71,
   "metadata": {},
   "outputs": [
    {
     "name": "stdout",
     "output_type": "stream",
     "text": [
      "0.0\n",
      "1.0\n",
      "0.643906020558003\n",
      "1.0\n",
      "485\n",
      "877\n"
     ]
    }
   ],
   "source": [
    "### Value frequency (truncated version based on conflict onset variable) -----\n",
    "print(df_s[\"ident_ethnicity\"].min())\n",
    "print(df_s[\"ident_ethnicity\"].max())\n",
    "print(df_s[\"ident_ethnicity\"].mean())\n",
    "print(df_s[\"ident_ethnicity\"].median())\n",
    "print(df_s[df_s.ident_ethnicity == 0].shape[0]) # \n",
    "print(df_s[df_s.ident_ethnicity == 1].shape[0]) #"
   ]
  },
  {
   "cell_type": "code",
   "execution_count": 72,
   "metadata": {},
   "outputs": [
    {
     "name": "stdout",
     "output_type": "stream",
     "text": [
      "0.0\n",
      "3.0\n",
      "1.1181598062953995\n",
      "1.0\n"
     ]
    }
   ],
   "source": [
    "### Summary statistics (complete dataset)  -----\n",
    "print(df[\"ideo_total\"].min())\n",
    "print(df[\"ideo_total\"].max())\n",
    "print(df[\"ideo_total\"].mean())\n",
    "print(df[\"ideo_total\"].median())"
   ]
  },
  {
   "cell_type": "code",
   "execution_count": 73,
   "metadata": {},
   "outputs": [
    {
     "name": "stdout",
     "output_type": "stream",
     "text": [
      "0.0\n",
      "3.0\n",
      "1.1226138032305433\n",
      "1.0\n"
     ]
    }
   ],
   "source": [
    "### Summary statistics (truncated version based on conflict onset variable) -----\n",
    "print(df_s[\"ideo_total\"].min())\n",
    "print(df_s[\"ideo_total\"].max())\n",
    "print(df_s[\"ideo_total\"].mean())\n",
    "print(df_s[\"ideo_total\"].median())"
   ]
  },
  {
   "cell_type": "code",
   "execution_count": 74,
   "metadata": {},
   "outputs": [
    {
     "data": {
      "text/plain": [
       "<matplotlib.axes._subplots.AxesSubplot at 0x19802728518>"
      ]
     },
     "execution_count": 74,
     "metadata": {},
     "output_type": "execute_result"
    },
    {
     "data": {
      "image/png": "[encoded data removed]",
      "text/plain": [
       "<Figure size 432x288 with 1 Axes>"
      ]
     },
     "metadata": {
      "needs_background": "light"
     },
     "output_type": "display_data"
    }
   ],
   "source": [
    "### Plot distribution ----\n",
    "df_s[\"ideo_total\"].hist() "
   ]
  },
  {
   "cell_type": "code",
   "execution_count": 75,
   "metadata": {},
   "outputs": [
    {
     "name": "stdout",
     "output_type": "stream",
     "text": [
      "368\n",
      "1089\n",
      "604\n",
      "4\n"
     ]
    }
   ],
   "source": [
    "### Value frequency (complete dataset) -----\n",
    "print(df[df.ideo_total == 0].shape[0]) # \n",
    "print(df[df.ideo_total == 1].shape[0]) #\n",
    "print(df[df.ideo_total == 2].shape[0]) #\n",
    "print(df[df.ideo_total == 3].shape[0]) # very few observations"
   ]
  },
  {
   "cell_type": "code",
   "execution_count": 76,
   "metadata": {},
   "outputs": [
    {
     "name": "stdout",
     "output_type": "stream",
     "text": [
      "262\n",
      "673\n",
      "425\n",
      "2\n"
     ]
    }
   ],
   "source": [
    "### Value frequency (truncated version based on conflict onset variable) -----\n",
    "print(df_s[df_s.ideo_total == 0].shape[0]) # \n",
    "print(df_s[df_s.ideo_total == 1].shape[0]) #\n",
    "print(df_s[df_s.ideo_total == 2].shape[0]) #\n",
    "print(df_s[df_s.ideo_total == 3].shape[0]) #"
   ]
  },
  {
   "cell_type": "code",
   "execution_count": 77,
   "metadata": {},
   "outputs": [
    {
     "name": "stdout",
     "output_type": "stream",
     "text": [
      "1.0\n",
      "4.0\n",
      "1.4145278450363197\n",
      "1.0\n"
     ]
    }
   ],
   "source": [
    "### Summary statistics (complete dataset)  -----\n",
    "print(df[\"goal_total\"].min())\n",
    "print(df[\"goal_total\"].max())\n",
    "print(df[\"goal_total\"].mean())\n",
    "print(df[\"goal_total\"].median())"
   ]
  },
  {
   "cell_type": "code",
   "execution_count": 78,
   "metadata": {},
   "outputs": [
    {
     "name": "stdout",
     "output_type": "stream",
     "text": [
      "1.0\n",
      "4.0\n",
      "1.4126284875183555\n",
      "1.0\n"
     ]
    }
   ],
   "source": [
    "### Summary statistics (truncated version based on conflict onset variable) -----\n",
    "print(df_s[\"goal_total\"].min())\n",
    "print(df_s[\"goal_total\"].max())\n",
    "print(df_s[\"goal_total\"].mean())\n",
    "print(df_s[\"goal_total\"].median())"
   ]
  },
  {
   "cell_type": "code",
   "execution_count": 79,
   "metadata": {},
   "outputs": [
    {
     "data": {
      "text/plain": [
       "<matplotlib.axes._subplots.AxesSubplot at 0x198027a9e80>"
      ]
     },
     "execution_count": 79,
     "metadata": {},
     "output_type": "execute_result"
    },
    {
     "data": {
      "image/png": "[encoded data removed]",
      "text/plain": [
       "<Figure size 432x288 with 1 Axes>"
      ]
     },
     "metadata": {
      "needs_background": "light"
     },
     "output_type": "display_data"
    }
   ],
   "source": [
    "### Plot distribution ----\n",
    "df_s[\"goal_total\"].hist() "
   ]
  },
  {
   "cell_type": "code",
   "execution_count": 80,
   "metadata": {},
   "outputs": [
    {
     "name": "stdout",
     "output_type": "stream",
     "text": [
      "1320\n",
      "637\n",
      "105\n",
      "3\n"
     ]
    }
   ],
   "source": [
    "### Value frequency (complete dataset) -----\n",
    "print(df[df.goal_total == 1].shape[0]) # \n",
    "print(df[df.goal_total == 2].shape[0]) #\n",
    "print(df[df.goal_total == 3].shape[0]) #\n",
    "print(df[df.goal_total == 4].shape[0]) #"
   ]
  },
  {
   "cell_type": "code",
   "execution_count": 81,
   "metadata": {},
   "outputs": [
    {
     "name": "stdout",
     "output_type": "stream",
     "text": [
      "875\n",
      "415\n",
      "69\n",
      "3\n"
     ]
    }
   ],
   "source": [
    "### Value frequency (truncated version based on conflict onset variable) -----\n",
    "print(df_s[df_s.goal_total == 1].shape[0]) # \n",
    "print(df_s[df_s.goal_total == 2].shape[0]) #\n",
    "print(df_s[df_s.goal_total == 3].shape[0]) #\n",
    "print(df_s[df_s.goal_total == 4].shape[0]) #"
   ]
  },
  {
   "cell_type": "code",
   "execution_count": 82,
   "metadata": {},
   "outputs": [
    {
     "name": "stdout",
     "output_type": "stream",
     "text": [
      "0.0\n",
      "85.37999855\n",
      "4.745336007353271\n",
      "0.497929361\n"
     ]
    }
   ],
   "source": [
    "### Summary statistics (complete dataset)  -----\n",
    "print(df[\"internet_use\"].min())\n",
    "print(df[\"internet_use\"].max())\n",
    "print(df[\"internet_use\"].mean())\n",
    "print(df[\"internet_use\"].median())"
   ]
  },
  {
   "cell_type": "code",
   "execution_count": 83,
   "metadata": {},
   "outputs": [
    {
     "name": "stdout",
     "output_type": "stream",
     "text": [
      "0.0\n",
      "85.37999855\n",
      "5.041194363151\n",
      "0.8472245209999999\n"
     ]
    }
   ],
   "source": [
    "### Summary statistics (truncated version based on conflict onset variable) -----\n",
    "print(df_s[\"internet_use\"].min())\n",
    "print(df_s[\"internet_use\"].max())\n",
    "print(df_s[\"internet_use\"].mean())\n",
    "print(df_s[\"internet_use\"].median())"
   ]
  },
  {
   "cell_type": "code",
   "execution_count": 84,
   "metadata": {},
   "outputs": [
    {
     "data": {
      "text/plain": [
       "<matplotlib.axes._subplots.AxesSubplot at 0x198027d8c18>"
      ]
     },
     "execution_count": 84,
     "metadata": {},
     "output_type": "execute_result"
    },
    {
     "data": {
      "image/png": "[encoded data removed]",
      "text/plain": [
       "<Figure size 432x288 with 1 Axes>"
      ]
     },
     "metadata": {
      "needs_background": "light"
     },
     "output_type": "display_data"
    }
   ],
   "source": [
    "### Plot distribution ----\n",
    "df_s[\"internet_use\"].hist() # extremely right-skewed"
   ]
  },
  {
   "cell_type": "code",
   "execution_count": 85,
   "metadata": {},
   "outputs": [
    {
     "name": "stdout",
     "output_type": "stream",
     "text": [
      "0.0\n",
      "66.5640813229259\n",
      "5.738932509570111\n",
      "0.8749240080107242\n"
     ]
    }
   ],
   "source": [
    "### Summary statistics (complete dataset)  -----\n",
    "print(df[\"oil\"].min())\n",
    "print(df[\"oil\"].max())\n",
    "print(df[\"oil\"].mean())\n",
    "print(df[\"oil\"].median())"
   ]
  },
  {
   "cell_type": "code",
   "execution_count": 86,
   "metadata": {},
   "outputs": [
    {
     "name": "stdout",
     "output_type": "stream",
     "text": [
      "0.0\n",
      "66.5640813229259\n",
      "6.001550562648924\n",
      "0.8908314450570931\n"
     ]
    }
   ],
   "source": [
    "### Summary statistics (truncated version based on conflict onset variable) -----\n",
    "print(df_s[\"oil\"].min())\n",
    "print(df_s[\"oil\"].max())\n",
    "print(df_s[\"oil\"].mean())\n",
    "print(df_s[\"oil\"].median())"
   ]
  },
  {
   "cell_type": "code",
   "execution_count": 87,
   "metadata": {},
   "outputs": [
    {
     "data": {
      "text/plain": [
       "<matplotlib.axes._subplots.AxesSubplot at 0x19802871898>"
      ]
     },
     "execution_count": 87,
     "metadata": {},
     "output_type": "execute_result"
    },
    {
     "data": {
      "image/png": "[encoded data removed]",
      "text/plain": [
       "<Figure size 432x288 with 1 Axes>"
      ]
     },
     "metadata": {
      "needs_background": "light"
     },
     "output_type": "display_data"
    }
   ],
   "source": [
    "### Plot distribution ----\n",
    "df_s[\"oil\"].hist()  # extremely right-skewed"
   ]
  },
  {
   "cell_type": "code",
   "execution_count": 88,
   "metadata": {},
   "outputs": [
    {
     "data": {
      "text/plain": [
       "['year',\n",
       " 'StateAbb',\n",
       " 'ccode',\n",
       " 'cname',\n",
       " 'side_a',\n",
       " 'side_a_new_id',\n",
       " 'side_b',\n",
       " 'side_b_new_id',\n",
       " 'dyad_name',\n",
       " 'dyad_new_id',\n",
       " 'active_year',\n",
       " 'best',\n",
       " 'high',\n",
       " 'low',\n",
       " 'foundloc',\n",
       " 'foundyear',\n",
       " 'foundmo',\n",
       " 'foundday',\n",
       " 'fightyear',\n",
       " 'fightmo',\n",
       " 'fightday',\n",
       " 'goalnominal',\n",
       " 'goalindep',\n",
       " 'goalauto',\n",
       " 'goalrights',\n",
       " 'goalrep',\n",
       " 'goalchange',\n",
       " 'goaldem',\n",
       " 'goalother',\n",
       " 'goalnote',\n",
       " 'ideology',\n",
       " 'ideolcom',\n",
       " 'ideolleft',\n",
       " 'ideolright',\n",
       " 'ideolnat',\n",
       " 'ideolanti',\n",
       " 'ideolrel',\n",
       " 'ideoloth',\n",
       " 'ideolnote',\n",
       " 'religious',\n",
       " 'religion',\n",
       " 'ethnic',\n",
       " 'ethnicity',\n",
       " 'preorg',\n",
       " 'preorgno',\n",
       " 'preorgreb',\n",
       " 'preorgter',\n",
       " 'preorgpar',\n",
       " 'preorgmvt',\n",
       " 'preorgyou',\n",
       " 'preorglab',\n",
       " 'preorgmil',\n",
       " 'preorggov',\n",
       " 'preorgfmr',\n",
       " 'preorgrel',\n",
       " 'preorgfor',\n",
       " 'preorgref',\n",
       " 'preorgeth',\n",
       " 'preorgoth',\n",
       " 'preorgname',\n",
       " 'merger',\n",
       " 'splinter',\n",
       " 'splinterUCDP',\n",
       " 'foundloc_cat',\n",
       " 'foundloc_cat_lab',\n",
       " 'foundloc_cat_cat_lab',\n",
       " 'age_active',\n",
       " 'goal_territory',\n",
       " 'goal_gov_represent',\n",
       " 'goal_gov_replace',\n",
       " 'ideo_left',\n",
       " 'ideo_right',\n",
       " 'ideo_anti_system',\n",
       " 'ideo_religious',\n",
       " 'ident_religious',\n",
       " 'parent_undefined',\n",
       " 'ccode_wb',\n",
       " 'goal_total',\n",
       " 'ideo_total',\n",
       " 'foundloc_cat_cat',\n",
       " 'age_formation',\n",
       " 'ident_ethnicity',\n",
       " 'parent_splinter_nonstate',\n",
       " 'parent_splinter_state',\n",
       " 'parent_civil_society',\n",
       " 'parent_merger',\n",
       " 'oil',\n",
       " 'forest_cov',\n",
       " 'rural',\n",
       " 'terrain',\n",
       " 'gov_qual',\n",
       " 'milexp_in',\n",
       " 'milper_in',\n",
       " 'polity2',\n",
       " 'internet_use',\n",
       " 'active_year_lag',\n",
       " 'active_year_onset',\n",
       " 'active_year_onset_drop',\n",
       " 'active_roll',\n",
       " 'civil_war_dummy']"
      ]
     },
     "execution_count": 88,
     "metadata": {},
     "output_type": "execute_result"
    }
   ],
   "source": [
    "### Which variables are in data -------------\n",
    "dat_var = []\n",
    "for col in df.columns:\n",
    "    dat_var.append(col)\n",
    "dat_var"
   ]
  },
  {
   "cell_type": "code",
   "execution_count": 89,
   "metadata": {},
   "outputs": [
    {
     "name": "stdout",
     "output_type": "stream",
     "text": [
      "2065\n"
     ]
    },
    {
     "data": {
      "text/html": [
       "<div>\n",
       "<style scoped>\n",
       "    .dataframe tbody tr th:only-of-type {\n",
       "        vertical-align: middle;\n",
       "    }\n",
       "\n",
       "    .dataframe tbody tr th {\n",
       "        vertical-align: top;\n",
       "    }\n",
       "\n",
       "    .dataframe thead th {\n",
       "        text-align: right;\n",
       "    }\n",
       "</style>\n",
       "<table border=\"1\" class=\"dataframe\">\n",
       "  <thead>\n",
       "    <tr style=\"text-align: right;\">\n",
       "      <th></th>\n",
       "      <th>year</th>\n",
       "      <th>StateAbb</th>\n",
       "      <th>ccode</th>\n",
       "      <th>cname</th>\n",
       "      <th>side_a</th>\n",
       "      <th>side_a_new_id</th>\n",
       "      <th>side_b</th>\n",
       "      <th>side_b_new_id</th>\n",
       "      <th>dyad_name</th>\n",
       "      <th>dyad_new_id</th>\n",
       "      <th>...</th>\n",
       "      <th>gov_qual</th>\n",
       "      <th>milexp_in</th>\n",
       "      <th>milper_in</th>\n",
       "      <th>polity2</th>\n",
       "      <th>internet_use</th>\n",
       "      <th>active_year_lag</th>\n",
       "      <th>active_year_onset</th>\n",
       "      <th>active_year_onset_drop</th>\n",
       "      <th>active_roll</th>\n",
       "      <th>civil_war_dummy</th>\n",
       "    </tr>\n",
       "  </thead>\n",
       "  <tbody>\n",
       "    <tr>\n",
       "      <th>0</th>\n",
       "      <td>1989</td>\n",
       "      <td>IRN</td>\n",
       "      <td>630</td>\n",
       "      <td>Iran</td>\n",
       "      <td>Government of Iran</td>\n",
       "      <td>114</td>\n",
       "      <td>KDPI</td>\n",
       "      <td>164</td>\n",
       "      <td>Government of Iran - KDPI</td>\n",
       "      <td>406</td>\n",
       "      <td>...</td>\n",
       "      <td>0.306</td>\n",
       "      <td>1.814</td>\n",
       "      <td>1.208</td>\n",
       "      <td>-6.000</td>\n",
       "      <td>4.261</td>\n",
       "      <td>0.000</td>\n",
       "      <td>0</td>\n",
       "      <td>0</td>\n",
       "      <td>0</td>\n",
       "      <td>0</td>\n",
       "    </tr>\n",
       "    <tr>\n",
       "      <th>1</th>\n",
       "      <td>1990</td>\n",
       "      <td>IRN</td>\n",
       "      <td>630</td>\n",
       "      <td>Iran</td>\n",
       "      <td>Government of Iran</td>\n",
       "      <td>114</td>\n",
       "      <td>KDPI</td>\n",
       "      <td>164</td>\n",
       "      <td>Government of Iran - KDPI</td>\n",
       "      <td>406</td>\n",
       "      <td>...</td>\n",
       "      <td>0.306</td>\n",
       "      <td>1.840</td>\n",
       "      <td>0.520</td>\n",
       "      <td>-6.000</td>\n",
       "      <td>0.000</td>\n",
       "      <td>0.000</td>\n",
       "      <td>1</td>\n",
       "      <td>1</td>\n",
       "      <td>1</td>\n",
       "      <td>0</td>\n",
       "    </tr>\n",
       "    <tr>\n",
       "      <th>2</th>\n",
       "      <td>1991</td>\n",
       "      <td>IRN</td>\n",
       "      <td>630</td>\n",
       "      <td>Iran</td>\n",
       "      <td>Government of Iran</td>\n",
       "      <td>114</td>\n",
       "      <td>KDPI</td>\n",
       "      <td>164</td>\n",
       "      <td>Government of Iran - KDPI</td>\n",
       "      <td>406</td>\n",
       "      <td>...</td>\n",
       "      <td>0.370</td>\n",
       "      <td>1.520</td>\n",
       "      <td>0.520</td>\n",
       "      <td>-6.000</td>\n",
       "      <td>0.000</td>\n",
       "      <td>1.000</td>\n",
       "      <td>0</td>\n",
       "      <td>0</td>\n",
       "      <td>1</td>\n",
       "      <td>0</td>\n",
       "    </tr>\n",
       "  </tbody>\n",
       "</table>\n",
       "<p>3 rows × 100 columns</p>\n",
       "</div>"
      ],
      "text/plain": [
       "   year StateAbb  ccode cname              side_a  side_a_new_id side_b  \\\n",
       "0  1989      IRN    630  Iran  Government of Iran            114   KDPI   \n",
       "1  1990      IRN    630  Iran  Government of Iran            114   KDPI   \n",
       "2  1991      IRN    630  Iran  Government of Iran            114   KDPI   \n",
       "\n",
       "   side_b_new_id                  dyad_name  dyad_new_id  ...  gov_qual  \\\n",
       "0            164  Government of Iran - KDPI          406  ...     0.306   \n",
       "1            164  Government of Iran - KDPI          406  ...     0.306   \n",
       "2            164  Government of Iran - KDPI          406  ...     0.370   \n",
       "\n",
       "   milexp_in  milper_in  polity2 internet_use  active_year_lag  \\\n",
       "0      1.814      1.208   -6.000        4.261            0.000   \n",
       "1      1.840      0.520   -6.000        0.000            0.000   \n",
       "2      1.520      0.520   -6.000        0.000            1.000   \n",
       "\n",
       "   active_year_onset  active_year_onset_drop  active_roll  civil_war_dummy  \n",
       "0                  0                       0            0                0  \n",
       "1                  1                       1            1                0  \n",
       "2                  0                       0            1                0  \n",
       "\n",
       "[3 rows x 100 columns]"
      ]
     },
     "execution_count": 89,
     "metadata": {},
     "output_type": "execute_result"
    }
   ],
   "source": [
    "### Reset index -----------\n",
    "df.reset_index(drop=True, inplace=True)\n",
    "print(len(df))\n",
    "df.head(3)"
   ]
  },
  {
   "cell_type": "code",
   "execution_count": 90,
   "metadata": {},
   "outputs": [
    {
     "data": {
      "text/plain": [
       "2065"
      ]
     },
     "execution_count": 90,
     "metadata": {},
     "output_type": "execute_result"
    }
   ],
   "source": [
    "### Save dataset which includes coding of outcome variables  ------\n",
    "df.to_csv(os.path.join(out_paths[\"data\"], f\"df_imp_1_onset.csv\"), index=False, sep=',')\n",
    "#df.to_csv(os.path.join(out_paths[\"data\"], f\"df_imp_simple_interpolated_onset.csv\"), index=False, sep=',')\n",
    "len(df)"
   ]
  },
  {
   "cell_type": "code",
   "execution_count": null,
   "metadata": {},
   "outputs": [],
   "source": []
  },
  {
   "cell_type": "code",
   "execution_count": null,
   "metadata": {},
   "outputs": [],
   "source": []
  },
  {
   "cell_type": "code",
   "execution_count": null,
   "metadata": {},
   "outputs": [],
   "source": []
  },
  {
   "cell_type": "code",
   "execution_count": null,
   "metadata": {},
   "outputs": [],
   "source": []
  }
 ],
 "metadata": {
  "kernelspec": {
   "display_name": "Python 3",
   "language": "python",
   "name": "python3"
  },
  "language_info": {
   "codemirror_mode": {
    "name": "ipython",
    "version": 3
   },
   "file_extension": ".py",
   "mimetype": "text/x-python",
   "name": "python",
   "nbconvert_exporter": "python",
   "pygments_lexer": "ipython3",
   "version": "3.7.3"
  }
 },
 "nbformat": 4,
 "nbformat_minor": 4
}
